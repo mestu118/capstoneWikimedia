{
 "cells": [
  {
   "cell_type": "markdown",
   "metadata": {},
   "source": [
    "# Introduction to cross-lingual word-embeddings at Wikimania 2019\n",
    "\n",
    "## Second Part: Use cases on section alignment and recommendation\n",
    "* How to query the [section alignment](https://meta.wikimedia.org/wiki/Research:Expanding_Wikipedia_articles_across_languages/Inter_language_approach#Section_Alignment) API.\n",
    "* How to query the [section recommendation](https://meta.wikimedia.org/wiki/Research:Expanding_Wikipedia_articles_across_languages/Inter_language_approach#Section_Recommendation) API.\n",
    "\n",
    "Languages supported: ar,en,es,fr,ja,ru\n",
    "\n",
    "If you want other languages supported to be supported please contact the [Wikimedia Research Team](https://research.wikimedia.org), or build it your self using [this repository](https://github.com/digitalTranshumant/wmf-interlanguage)."
   ]
  },
  {
   "cell_type": "code",
   "execution_count": 6,
   "metadata": {},
   "outputs": [],
   "source": [
    "# import requests\n",
    "import requests\n",
    "import json"
   ]
  },
  {
   "cell_type": "markdown",
   "metadata": {},
   "source": [
    "### Section Alignments\n",
    "\n",
    "Given a section title in language X, get the top-5 most similar section titles in language Y.\n",
    "\n",
    "Format:\n",
    "\n",
    "https://secrec.wmflabs.org/API/alignment/sourceLang/TargetLang/SectionTitle"
   ]
  },
  {
   "cell_type": "code",
   "execution_count": 7,
   "metadata": {},
   "outputs": [
    {
     "name": "stdout",
     "output_type": "stream",
     "text": [
      "[['Historia', 0.9967201352119446], ['Antecedentes', 0.9301817417144777], ['Origen', 0.9225533604621888], ['Biografía', 0.8935526609420776], ['Orígenes', 0.8652909398078918]]\n"
     ]
    }
   ],
   "source": [
    "r = requests.get('https://secrec.wmflabs.org/API/alignment/en/es/History')\n",
    "print(r.json())"
   ]
  },
  {
   "cell_type": "markdown",
   "metadata": {},
   "source": [
    "Try with different languages"
   ]
  },
  {
   "cell_type": "code",
   "execution_count": 8,
   "metadata": {},
   "outputs": [
    {
     "name": "stdout",
     "output_type": "stream",
     "text": [
      "[['Histoire', 0.993550181388855], ['Historique', 0.9897249937057496], ['Biographie', 0.9730368256568908], ['Géographie', 0.9194995164871216], ['Événements', 0.9069859385490416]]\n"
     ]
    }
   ],
   "source": [
    "r = requests.get('https://secrec.wmflabs.org/API/alignment/en/fr/History')\n",
    "print(r.json())"
   ]
  },
  {
   "cell_type": "code",
   "execution_count": 9,
   "metadata": {},
   "outputs": [
    {
     "name": "stdout",
     "output_type": "stream",
     "text": [
      "[['История', 0.9978166818618774], ['История создания', 0.9773070812225342], ['Биография', 0.9586173295974731], ['История группы', 0.9441680312156676], ['География', 0.9351124763488771]]\n"
     ]
    }
   ],
   "source": [
    "r = requests.get('https://secrec.wmflabs.org/API/alignment/en/ru/History')\n",
    "print(r.json())"
   ]
  },
  {
   "cell_type": "code",
   "execution_count": 10,
   "metadata": {},
   "outputs": [
    {
     "name": "stdout",
     "output_type": "stream",
     "text": [
      "[['歴史', 0.9918041229248048], ['概要', 0.9894659519195556], ['沿革', 0.9855944514274596], ['地理', 0.9806338548660278], ['来歴', 0.975605607032776]]\n"
     ]
    }
   ],
   "source": [
    "r = requests.get('https://secrec.wmflabs.org/API/alignment/en/ja/History')\n",
    "print(r.json())"
   ]
  },
  {
   "cell_type": "code",
   "execution_count": 11,
   "metadata": {},
   "outputs": [
    {
     "name": "stdout",
     "output_type": "stream",
     "text": [
      "[['تاريخ', 0.9961488246917723], ['التاريخ', 0.996093213558197], ['معلومات تاريخية', 0.9824422597885132], ['نبذة تاريخية', 0.9747090339660645], ['لمحة تاريخية', 0.9711450338363647]]\n"
     ]
    }
   ],
   "source": [
    "r = requests.get('https://secrec.wmflabs.org/API/alignment/en/ar/History')\n",
    "print(r.json())"
   ]
  },
  {
   "cell_type": "markdown",
   "metadata": {},
   "source": [
    "If we can't find any aligment, response comes empty"
   ]
  },
  {
   "cell_type": "code",
   "execution_count": 12,
   "metadata": {},
   "outputs": [
    {
     "name": "stdout",
     "output_type": "stream",
     "text": [
      "[]\n"
     ]
    }
   ],
   "source": [
    "r = requests.get('https://secrec.wmflabs.org/API/alignment/en/ar/HistorX')\n",
    "print(r.json())"
   ]
  },
  {
   "cell_type": "markdown",
   "metadata": {},
   "source": [
    "If you add a language that is not support yet"
   ]
  },
  {
   "cell_type": "code",
   "execution_count": 13,
   "metadata": {},
   "outputs": [
    {
     "name": "stdout",
     "output_type": "stream",
     "text": [
      "{'error': 'ca is not supported; supported languages are: fr,en,es,ja,ar,ru'}\n"
     ]
    }
   ],
   "source": [
    "r = requests.get('https://secrec.wmflabs.org/API/alignment/en/ca/HistorX')\n",
    "print(r.json())"
   ]
  },
  {
   "cell_type": "markdown",
   "metadata": {},
   "source": [
    "Requests your language to be added!"
   ]
  },
  {
   "cell_type": "markdown",
   "metadata": {},
   "source": [
    "### Section Recommendations\n",
    "\n",
    "Given an article in language X, check if the same article (sitelinks) exists in the other languages supported, and create recommendations \n",
    "Format:\n",
    "\n",
    "http://secrec.wmflabs.org/API/recommendation/lang/title"
   ]
  },
  {
   "cell_type": "code",
   "execution_count": 14,
   "metadata": {},
   "outputs": [
    {
     "name": "stdout",
     "output_type": "stream",
     "text": [
      "{\n",
      "  \"Recommendations\": [\n",
      "    \"Infrastructure\",\n",
      "    \"Argentina\",\n",
      "    \"Mexico\",\n",
      "    \"Economy\",\n",
      "    \"Etymology\",\n",
      "    \"Organization\"\n",
      "  ]\n",
      "}\n"
     ]
    }
   ],
   "source": [
    "r = requests.get('https://secrec.wmflabs.org/API/recommendation/en/Quilombo')\n",
    "print(json.dumps(r.json(),indent=2))"
   ]
  },
  {
   "cell_type": "markdown",
   "metadata": {},
   "source": [
    "### Add parameters \n",
    "\n",
    "* blind (optional): {Boolean} When True, gives recommendations without considering the existing sections on the current article. When False, return just potential missing sections."
   ]
  },
  {
   "cell_type": "code",
   "execution_count": 15,
   "metadata": {},
   "outputs": [
    {
     "name": "stdout",
     "output_type": "stream",
     "text": [
      "{\n",
      "  \"Recommendations\": [\n",
      "    \"Infrastructure\",\n",
      "    \"References\",\n",
      "    \"Bibliography\",\n",
      "    \"Argentina\",\n",
      "    \"Mexico\",\n",
      "    \"History\",\n",
      "    \"Economy\",\n",
      "    \"See also\",\n",
      "    \"Etymology\",\n",
      "    \"Organization\"\n",
      "  ]\n",
      "}\n"
     ]
    }
   ],
   "source": [
    "r = requests.get('https://secrec.wmflabs.org/API/recommendation/en/Quilombo?blind=True')\n",
    "print(json.dumps(r.json(),indent=2))"
   ]
  },
  {
   "cell_type": "markdown",
   "metadata": {},
   "source": [
    "* verbose (optional): {Boolean} When True, provide contextual information about recommendations"
   ]
  },
  {
   "cell_type": "code",
   "execution_count": 16,
   "metadata": {},
   "outputs": [
    {
     "name": "stdout",
     "output_type": "stream",
     "text": [
      "Requirement already satisfied: requests in /Users/markestu/Documents/Fall19/CD1006/capstoneWikimedia/venv/lib/python3.6/site-packages (2.22.0)\n",
      "Requirement already satisfied: certifi>=2017.4.17 in /Users/markestu/Documents/Fall19/CD1006/capstoneWikimedia/venv/lib/python3.6/site-packages (from requests) (2019.9.11)\n",
      "Requirement already satisfied: urllib3!=1.25.0,!=1.25.1,<1.26,>=1.21.1 in /Users/markestu/Documents/Fall19/CD1006/capstoneWikimedia/venv/lib/python3.6/site-packages (from requests) (1.25.6)\n",
      "Requirement already satisfied: chardet<3.1.0,>=3.0.2 in /Users/markestu/Documents/Fall19/CD1006/capstoneWikimedia/venv/lib/python3.6/site-packages (from requests) (3.0.4)\n",
      "Requirement already satisfied: idna<2.9,>=2.5 in /Users/markestu/Documents/Fall19/CD1006/capstoneWikimedia/venv/lib/python3.6/site-packages (from requests) (2.8)\n",
      "{\n",
      "  \"context\": {\n",
      "    \"usedMoreLike\": false,\n",
      "    \"CurrentSections\": [\n",
      "      \"Lives of slaves\",\n",
      "      \"History\",\n",
      "      \"Palmares\",\n",
      "      \"Movie\",\n",
      "      \"Constitution of Brazil\",\n",
      "      \"In Castilian\",\n",
      "      \"See also\",\n",
      "      \"References\",\n",
      "      \"Further reading\",\n",
      "      \"External links\"\n",
      "    ],\n",
      "    \"SectionsInOtherLanguages\": {\n",
      "      \"fr\": [\n",
      "        \"Histoire\",\n",
      "        \"\\u00c9tymologie\",\n",
      "        \"Organisation\",\n",
      "        \"\\u00c9conomie\",\n",
      "        \"Notes et r\\u00e9f\\u00e9rences\"\n",
      "      ],\n",
      "      \"ru\": [\n",
      "        \"\\u041f\\u0440\\u0438\\u043c\\u0435\\u0447\\u0430\\u043d\\u0438\\u044f\"\n",
      "      ],\n",
      "      \"es\": [\n",
      "        \"Etimolog\\u00eda\",\n",
      "        \"Historia\",\n",
      "        \"Condiciones de vida de los esclavos en Am\\u00e9rica\",\n",
      "        \"Zonas liberadas\",\n",
      "        \"Brasil\",\n",
      "        \"Colombia\",\n",
      "        \"Ecuador\",\n",
      "        \"Jamaica\",\n",
      "        \"M\\u00e9xico\",\n",
      "        \"Panam\\u00e1\",\n",
      "        \"Per\\u00fa\",\n",
      "        \"Venezuela\",\n",
      "        \"Infraestructura\",\n",
      "        \"Organizaci\\u00f3n\",\n",
      "        \"Econom\\u00eda\",\n",
      "        \"V\\u00e9ase tambi\\u00e9n\",\n",
      "        \"Referencias\",\n",
      "        \"Bibliograf\\u00eda\",\n",
      "        \"Enlaces externos\"\n",
      "      ]\n",
      "    }\n",
      "  },\n",
      "  \"Recommendations\": [\n",
      "    \"Infrastructure\",\n",
      "    \"Argentina\",\n",
      "    \"Mexico\",\n",
      "    \"Economy\",\n",
      "    \"Etymology\",\n",
      "    \"Organization\"\n",
      "  ]\n",
      "}\n"
     ]
    }
   ],
   "source": [
    "!pip install requests\n",
    "import requests\n",
    "r = requests.get('https://secrec.wmflabs.org/API/recommendation/en/Quilombo?verbose=True')\n",
    "print(json.dumps(r.json(),indent=2))"
   ]
  },
  {
   "cell_type": "code",
   "execution_count": null,
   "metadata": {},
   "outputs": [],
   "source": []
  }
 ],
 "metadata": {
  "kernelspec": {
   "display_name": "Python 3",
   "language": "python",
   "name": "python3"
  },
  "language_info": {
   "codemirror_mode": {
    "name": "ipython",
    "version": 3
   },
   "file_extension": ".py",
   "mimetype": "text/x-python",
   "name": "python",
   "nbconvert_exporter": "python",
   "pygments_lexer": "ipython3",
   "version": "3.6.5"
  }
 },
 "nbformat": 4,
 "nbformat_minor": 2
}
