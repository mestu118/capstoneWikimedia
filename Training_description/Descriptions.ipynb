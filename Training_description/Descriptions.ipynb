{
 "cells": [
  {
   "cell_type": "code",
   "execution_count": 1,
   "metadata": {
    "colab": {},
    "colab_type": "code",
    "id": "dOq1yuJ--zZD"
   },
   "outputs": [],
   "source": [
    "# # !gunzip cx-corpora.en2es.text.json.gz\n",
    "# !pip install --user pybind11\n",
    "# !pip install fasttext\n",
    "#!conda install -c conda-forge fasttext"
   ]
  },
  {
   "cell_type": "code",
   "execution_count": 5,
   "metadata": {
    "colab": {},
    "colab_type": "code",
    "id": "_w7cb_2j_U-S"
   },
   "outputs": [],
   "source": [
    "import json\n",
    "import fasttext\n",
    "import pandas as pd\n",
    "import numpy as np\n",
    "import re\n",
    "import os\n",
    "import unicodedata\n",
    "from sklearn.model_selection import train_test_split\n",
    "from tqdm import tqdm\n",
    "from numpy.core.umath_tests import inner1d\n",
    "from os import listdir"
   ]
  },
  {
   "cell_type": "code",
   "execution_count": 29,
   "metadata": {
    "colab": {},
    "colab_type": "code",
    "id": "UsecK2xOBInn"
   },
   "outputs": [],
   "source": [
    "def apply_transform(vec, transform):\n",
    "    \"\"\"\n",
    "    Apply the given transformation to the vector space\n",
    "\n",
    "    Right-multiplies given transform with embeddings E:\n",
    "        E = E * transform\n",
    "\n",
    "    Transform can either be a string with a filename to a\n",
    "    text file containing a ndarray (compat. with np.loadtxt)\n",
    "    or a numpy ndarray.\n",
    "    \"\"\"\n",
    "    transmat = np.loadtxt(transform)# if isinstance(transform, str) else transform\n",
    "    return np.matmul(vec, transmat)\n",
    "\n",
    "def make_training_matrices(source_dictionary, target_dictionary, bilingual_dictionary):\n",
    "    \"\"\"\n",
    "    Source and target dictionaries are the FastVector objects of\n",
    "    source/target languages. bilingual_dictionary is a list of \n",
    "    translation pair tuples [(source_word, target_word), ...].\n",
    "    \"\"\"\n",
    "    source_matrix = []\n",
    "    target_matrix = []\n",
    "    \n",
    "    len_bd = len(bilingual_dictionary)\n",
    "\n",
    "    for i, (source, target) in tqdm(enumerate(bilingual_dictionary)):\n",
    "#         print(f'\\r{i + 1}/{len_bd} | {100 * (i + 1) / len_bd:.3f} %', end = '', flush = True)\n",
    "        sourceVector = source_dictionary.get_sentence_vector(source.lower().strip().replace('_',' '))\n",
    "        targetVector = target_dictionary.get_sentence_vector(target.lower().strip().replace('_',' '))\n",
    "        source_matrix.append(sourceVector)\n",
    "        target_matrix.append(targetVector)\n",
    "        \n",
    "    # return training matrices\n",
    "    return np.array(source_matrix), np.array(target_matrix)\n",
    "\n",
    "def normalized(a, axis=-1, order=2):\n",
    "    \"\"\"Utility function to normalize the rows of a numpy array.\"\"\"\n",
    "    l2 = np.atleast_1d(np.linalg.norm(a, order, axis))\n",
    "    l2[l2 == 0] = 1\n",
    "    return a / np.expand_dims(l2, axis)\n",
    "\n",
    "\n",
    "def learn_transformation(source_matrix, target_matrix, normalize_vectors=True):\n",
    "    \"\"\"\n",
    "    Source and target matrices are numpy arrays, shape\n",
    "    (dictionary_length, embedding_dimension). These contain paired\n",
    "    word vectors from the bilingual dictionary.\n",
    "    \"\"\"\n",
    "    # optionally normalize the training vectors\n",
    "    if normalize_vectors:\n",
    "        source_matrix = normalized(source_matrix)\n",
    "        target_matrix = normalized(target_matrix)\n",
    "\n",
    "    # perform the SVD\n",
    "    product = np.matmul(target_matrix.transpose(), source_matrix)\n",
    "    U, s, V = np.linalg.svd(product)\n",
    "\n",
    "    # return orthogonal transformation which aligns source language to the target\n",
    "    return np.matmul(U, V)\n",
    "\n",
    "def cleanData(data):\n",
    "    data_cleaned = []\n",
    "    for source, target in zip(data['source_value'], data['target_value']):\n",
    "        try:\n",
    "            source_cleaned = unicodedata.normalize('NFD', source)\n",
    "            target_cleaned = unicodedata.normalize('NFD', target)\n",
    "            if not source == ''  and not target == '':\n",
    "                data_cleaned.append([source_cleaned, target_cleaned])\n",
    "        except:\n",
    "            pass\n",
    "    return data_cleaned\n",
    "\n",
    "def joinData(source, target):\n",
    "    if check(source, target):\n",
    "        return joinData(target, source)\n",
    "    \n",
    "    \n",
    "    df1 = pd.read_csv('allLanguages/{}.csv'.format(target), error_bad_lines = False)\n",
    "    df2 = pd.read_csv('allLanguages/{}.csv'.format(source), error_bad_lines = False)\n",
    "    \n",
    "    df1.columns = ['ID', 'source_lang', 'source']\n",
    "    df2.columns = ['ID', 'target_lang', 'target']\n",
    "    \n",
    "    retVal = df1.join(df2.set_index('ID'), on = 'ID')\n",
    "    retVal.to_csv('languagePairs/{}2{}.csv'.format(source, target))\n",
    "    \n",
    "    \n",
    "def check(source, target):\n",
    "    val = [source, target]\n",
    "    return val != sorted(val)\n",
    "\n",
    "def loadData(source, target):\n",
    "    if check(source, target):\n",
    "        return loadData(target, source)\n",
    "    \n",
    "    file = '{}2{}.csv'.format(source, target)\n",
    "    path = '/scratch/mje341/capstoneWikimedia/Training_description/files/'\n",
    "    files = listdir(path)\n",
    "    retVal = 'description_train_{}'.format(file)\n",
    "    if retVal in files:\n",
    "        return pd.read_csv(os.path.join(path, retVal))\n",
    "    elif file in files:\n",
    "        print(\"description_train{} not found. Will create data frame\".format(file))\n",
    "        print(\"Loading {}\".format(file))\n",
    "        data = pd.read_csv(os.path.join(path, file), error_bad_lines = False)\n",
    "        data = data.drop(['ID'], axis = 1)\n",
    "        data = data.drop_duplicates()\n",
    "        df = pd.DataFrame(cleanData(data), columns = ['source', 'target'])\n",
    "        df.to_csv(os.path.join(path, retVal))\n",
    "        return pd.read_csv(os.path.join(path, retVal))\n",
    "    else:\n",
    "        raise Exception((\"{0} not in directory {1}\".format(file, path)))"
   ]
  },
  {
   "cell_type": "code",
   "execution_count": 30,
   "metadata": {},
   "outputs": [
    {
     "name": "stderr",
     "output_type": "stream",
     "text": [
      "b'Skipping line 18709: expected 3 fields, saw 5\\nSkipping line 28172: expected 3 fields, saw 5\\nSkipping line 36646: expected 3 fields, saw 5\\n'\n",
      "b'Skipping line 402175: expected 3 fields, saw 4\\nSkipping line 411674: expected 3 fields, saw 4\\nSkipping line 411772: expected 3 fields, saw 4\\n'\n",
      "b'Skipping line 1175541: expected 3 fields, saw 4\\nSkipping line 1186041: expected 3 fields, saw 4\\n'\n",
      "b'Skipping line 1853315: expected 3 fields, saw 4\\nSkipping line 1889945: expected 3 fields, saw 4\\nSkipping line 2091528: expected 3 fields, saw 4\\n'\n",
      "b'Skipping line 2727631: expected 3 fields, saw 4\\n'\n",
      "b'Skipping line 3942016: expected 3 fields, saw 4\\nSkipping line 3956895: expected 3 fields, saw 4\\nSkipping line 4054806: expected 3 fields, saw 4\\nSkipping line 4083758: expected 3 fields, saw 6\\nSkipping line 4129983: expected 3 fields, saw 5\\n'\n",
      "b'Skipping line 4215669: expected 3 fields, saw 4\\nSkipping line 4268151: expected 3 fields, saw 5\\nSkipping line 4396359: expected 3 fields, saw 4\\n'\n",
      "b'Skipping line 5251943: expected 3 fields, saw 4\\nSkipping line 5259743: expected 3 fields, saw 4\\nSkipping line 5295945: expected 3 fields, saw 4\\nSkipping line 5395086: expected 3 fields, saw 4\\nSkipping line 5504716: expected 3 fields, saw 4\\n'\n",
      "b'Skipping line 5560457: expected 3 fields, saw 4\\n'\n",
      "b'Skipping line 5877580: expected 3 fields, saw 4\\n'\n",
      "b'Skipping line 6134312: expected 3 fields, saw 4\\n'\n",
      "b'Skipping line 6830923: expected 3 fields, saw 4\\nSkipping line 6890255: expected 3 fields, saw 4\\n'\n",
      "b'Skipping line 7707414: expected 3 fields, saw 4\\nSkipping line 7821018: expected 3 fields, saw 5\\n'\n",
      "b'Skipping line 8565933: expected 3 fields, saw 4\\n'\n",
      "b'Skipping line 8651403: expected 3 fields, saw 4\\nSkipping line 8660665: expected 3 fields, saw 4\\nSkipping line 8883826: expected 3 fields, saw 4\\n'\n",
      "b'Skipping line 10438824: expected 3 fields, saw 4\\n'\n",
      "b'Skipping line 11069624: expected 3 fields, saw 4\\nSkipping line 11114492: expected 3 fields, saw 4\\nSkipping line 11125974: expected 3 fields, saw 8\\n'\n",
      "b'Skipping line 11479030: expected 3 fields, saw 4\\nSkipping line 11479263: expected 3 fields, saw 4\\nSkipping line 11479310: expected 3 fields, saw 4\\n'\n",
      "b'Skipping line 11901527: expected 3 fields, saw 4\\nSkipping line 11970038: expected 3 fields, saw 6\\nSkipping line 12022163: expected 3 fields, saw 4\\n'\n",
      "b'Skipping line 12937340: expected 3 fields, saw 4\\n'\n",
      "b'Skipping line 13451693: expected 3 fields, saw 4\\nSkipping line 13485173: expected 3 fields, saw 4\\n'\n",
      "b'Skipping line 14124902: expected 3 fields, saw 4\\n'\n",
      "b'Skipping line 14256546: expected 3 fields, saw 5\\n'\n",
      "b'Skipping line 14695365: expected 3 fields, saw 4\\nSkipping line 14818548: expected 3 fields, saw 5\\nSkipping line 14821298: expected 3 fields, saw 4\\n'\n",
      "b'Skipping line 15450398: expected 3 fields, saw 5\\n'\n",
      "b'Skipping line 15478536: expected 3 fields, saw 4\\n'\n",
      "b'Skipping line 16288530: expected 3 fields, saw 4\\n'\n",
      "b'Skipping line 16676328: expected 3 fields, saw 5\\nSkipping line 16720238: expected 3 fields, saw 4\\nSkipping line 16721366: expected 3 fields, saw 4\\nSkipping line 16751749: expected 3 fields, saw 4\\n'\n",
      "b'Skipping line 17552525: expected 3 fields, saw 4\\n'\n",
      "b'Skipping line 17907685: expected 3 fields, saw 4\\nSkipping line 17931101: expected 3 fields, saw 5\\n'\n",
      "b'Skipping line 18516290: expected 3 fields, saw 5\\n'\n",
      "b'Skipping line 18681490: expected 3 fields, saw 4\\nSkipping line 18816720: expected 3 fields, saw 5\\n'\n",
      "b'Skipping line 19254164: expected 3 fields, saw 4\\n'\n",
      "b'Skipping line 19409326: expected 3 fields, saw 4\\n'\n",
      "b'Skipping line 20558700: expected 3 fields, saw 4\\n'\n",
      "b'Skipping line 20745286: expected 3 fields, saw 4\\nSkipping line 20786241: expected 3 fields, saw 5\\n'\n",
      "b'Skipping line 21122629: expected 3 fields, saw 6\\nSkipping line 21131382: expected 3 fields, saw 5\\nSkipping line 21210400: expected 3 fields, saw 4\\n'\n",
      "b'Skipping line 21634311: expected 3 fields, saw 4\\nSkipping line 21688221: expected 3 fields, saw 4\\n'\n",
      "b'Skipping line 21952563: expected 3 fields, saw 4\\n'\n",
      "b'Skipping line 22912642: expected 3 fields, saw 4\\nSkipping line 22991021: expected 3 fields, saw 4\\nSkipping line 22992965: expected 3 fields, saw 4\\n'\n",
      "b'Skipping line 23642515: expected 3 fields, saw 4\\nSkipping line 23732251: expected 3 fields, saw 4\\nSkipping line 23742978: expected 3 fields, saw 5\\n'\n",
      "b'Skipping line 24690811: expected 3 fields, saw 4\\n'\n",
      "b'Skipping line 26016604: expected 3 fields, saw 4\\n'\n",
      "b'Skipping line 26342761: expected 3 fields, saw 5\\n'\n",
      "b'Skipping line 27154180: expected 3 fields, saw 7\\nSkipping line 27161245: expected 3 fields, saw 4\\n'\n",
      "b'Skipping line 28410008: expected 3 fields, saw 4\\nSkipping line 28536547: expected 3 fields, saw 4\\n'\n",
      "b'Skipping line 28586776: expected 3 fields, saw 4\\n'\n",
      "b'Skipping line 29097950: expected 3 fields, saw 4\\n'\n",
      "b'Skipping line 29498938: expected 3 fields, saw 5\\n'\n",
      "b'Skipping line 29633380: expected 3 fields, saw 5\\n'\n",
      "b'Skipping line 30269792: expected 3 fields, saw 4\\n'\n",
      "b'Skipping line 30864523: expected 3 fields, saw 4\\n'\n",
      "b'Skipping line 31449226: expected 3 fields, saw 5\\n'\n",
      "b'Skipping line 31482296: expected 3 fields, saw 7\\n'\n",
      "b'Skipping line 791744: expected 3 fields, saw 4\\nSkipping line 885521: expected 3 fields, saw 4\\nSkipping line 960125: expected 3 fields, saw 4\\nSkipping line 960582: expected 3 fields, saw 4\\n'\n",
      "b'Skipping line 1159253: expected 3 fields, saw 5\\n'\n",
      "b'Skipping line 1586475: expected 3 fields, saw 4\\nSkipping line 1603541: expected 3 fields, saw 4\\nSkipping line 1618450: expected 3 fields, saw 4\\nSkipping line 1638724: expected 3 fields, saw 5\\n'\n",
      "b'Skipping line 2065210: expected 3 fields, saw 6\\nSkipping line 2070208: expected 3 fields, saw 4\\nSkipping line 2077755: expected 3 fields, saw 4\\n'\n",
      "b'Skipping line 2216285: expected 3 fields, saw 4\\n'\n",
      "b'Skipping line 3025583: expected 3 fields, saw 4\\nSkipping line 3115638: expected 3 fields, saw 4\\nSkipping line 3121480: expected 3 fields, saw 4\\nSkipping line 3135907: expected 3 fields, saw 5\\n'\n",
      "b'Skipping line 3156641: expected 3 fields, saw 4\\nSkipping line 3165512: expected 3 fields, saw 5\\nSkipping line 3195289: expected 3 fields, saw 4\\nSkipping line 3205153: expected 3 fields, saw 4\\nSkipping line 3205729: expected 3 fields, saw 4\\n'\n",
      "b'Skipping line 3701304: expected 3 fields, saw 5\\nSkipping line 3823804: expected 3 fields, saw 4\\n'\n",
      "b'Skipping line 4054980: expected 3 fields, saw 4\\n'\n",
      "b'Skipping line 4519940: expected 3 fields, saw 4\\n'\n",
      "b'Skipping line 4866661: expected 3 fields, saw 4\\nSkipping line 4866722: expected 3 fields, saw 4\\nSkipping line 4866734: expected 3 fields, saw 4\\nSkipping line 4866846: expected 3 fields, saw 4\\nSkipping line 4866941: expected 3 fields, saw 4\\nSkipping line 4866942: expected 3 fields, saw 5\\nSkipping line 4866998: expected 3 fields, saw 4\\nSkipping line 4867011: expected 3 fields, saw 5\\nSkipping line 4867209: expected 3 fields, saw 7\\nSkipping line 4867215: expected 3 fields, saw 5\\nSkipping line 4867252: expected 3 fields, saw 6\\nSkipping line 4867377: expected 3 fields, saw 4\\nSkipping line 4867393: expected 3 fields, saw 4\\nSkipping line 4868274: expected 3 fields, saw 4\\nSkipping line 4868275: expected 3 fields, saw 4\\nSkipping line 4868276: expected 3 fields, saw 4\\nSkipping line 4868277: expected 3 fields, saw 4\\nSkipping line 4868278: expected 3 fields, saw 4\\nSkipping line 4868279: expected 3 fields, saw 4\\nSkipping line 4868280: expected 3 fields, saw 4\\nSkipping line 4868281: expected 3 fields, saw 4\\nSkipping line 4868282: expected 3 fields, saw 4\\nSkipping line 4868283: expected 3 fields, saw 4\\nSkipping line 4868284: expected 3 fields, saw 4\\nSkipping line 4868285: expected 3 fields, saw 4\\nSkipping line 4868286: expected 3 fields, saw 4\\nSkipping line 4868287: expected 3 fields, saw 4\\nSkipping line 4868288: expected 3 fields, saw 4\\nSkipping line 4868289: expected 3 fields, saw 4\\nSkipping line 4868290: expected 3 fields, saw 4\\nSkipping line 4868291: expected 3 fields, saw 4\\nSkipping line 4868292: expected 3 fields, saw 4\\nSkipping line 4868293: expected 3 fields, saw 4\\nSkipping line 4868294: expected 3 fields, saw 4\\nSkipping line 4868295: expected 3 fields, saw 4\\nSkipping line 4868296: expected 3 fields, saw 4\\nSkipping line 4868297: expected 3 fields, saw 4\\nSkipping line 4868298: expected 3 fields, saw 4\\nSkipping line 4868299: expected 3 fields, saw 4\\nSkipping line 4868300: expected 3 fields, saw 4\\nSkipping line 4868356: expected 3 fields, saw 5\\n'\n"
     ]
    },
    {
     "name": "stderr",
     "output_type": "stream",
     "text": [
      "b'Skipping line 5049203: expected 3 fields, saw 4\\nSkipping line 5050377: expected 3 fields, saw 5\\nSkipping line 5050510: expected 3 fields, saw 4\\nSkipping line 5052759: expected 3 fields, saw 4\\nSkipping line 5055195: expected 3 fields, saw 7\\nSkipping line 5055200: expected 3 fields, saw 7\\nSkipping line 5065864: expected 3 fields, saw 4\\nSkipping line 5065876: expected 3 fields, saw 7\\nSkipping line 5066360: expected 3 fields, saw 5\\nSkipping line 5067957: expected 3 fields, saw 4\\n'\n",
      "b'Skipping line 5379643: expected 3 fields, saw 5\\nSkipping line 5434984: expected 3 fields, saw 4\\n'\n",
      "b'Skipping line 5718273: expected 3 fields, saw 4\\n'\n",
      "b'Skipping line 5784236: expected 3 fields, saw 6\\n'\n",
      "b'Skipping line 6598248: expected 3 fields, saw 4\\n'\n",
      "b'Skipping line 7320372: expected 3 fields, saw 4\\n'\n",
      "b'Skipping line 7348952: expected 3 fields, saw 4\\nSkipping line 7503611: expected 3 fields, saw 4\\nSkipping line 7531067: expected 3 fields, saw 4\\n'\n",
      "b'Skipping line 7701459: expected 3 fields, saw 5\\n'\n",
      "b'Skipping line 7950004: expected 3 fields, saw 4\\nSkipping line 7954782: expected 3 fields, saw 4\\nSkipping line 7956348: expected 3 fields, saw 4\\nSkipping line 7958342: expected 3 fields, saw 4\\nSkipping line 7960332: expected 3 fields, saw 4\\nSkipping line 7962037: expected 3 fields, saw 7\\nSkipping line 7970060: expected 3 fields, saw 10\\nSkipping line 7970105: expected 3 fields, saw 5\\nSkipping line 7971902: expected 3 fields, saw 4\\nSkipping line 7973778: expected 3 fields, saw 4\\nSkipping line 7974433: expected 3 fields, saw 7\\n'\n",
      "b'Skipping line 8396046: expected 3 fields, saw 4\\nSkipping line 8402588: expected 3 fields, saw 4\\nSkipping line 8405380: expected 3 fields, saw 4\\nSkipping line 8433784: expected 3 fields, saw 4\\nSkipping line 8488215: expected 3 fields, saw 4\\nSkipping line 8560736: expected 3 fields, saw 4\\nSkipping line 8607661: expected 3 fields, saw 4\\nSkipping line 8617450: expected 3 fields, saw 5\\nSkipping line 8622722: expected 3 fields, saw 6\\nSkipping line 8624337: expected 3 fields, saw 4\\nSkipping line 8636000: expected 3 fields, saw 4\\n'\n",
      "b'Skipping line 8651200: expected 3 fields, saw 5\\nSkipping line 8657343: expected 3 fields, saw 5\\nSkipping line 8661717: expected 3 fields, saw 4\\n'\n",
      "b'Skipping line 9546744: expected 3 fields, saw 4\\n'\n",
      "b'Skipping line 9804530: expected 3 fields, saw 7\\nSkipping line 9804543: expected 3 fields, saw 4\\nSkipping line 9804544: expected 3 fields, saw 4\\nSkipping line 9828331: expected 3 fields, saw 4\\n'\n",
      "b'Skipping line 10237780: expected 3 fields, saw 4\\nSkipping line 10254051: expected 3 fields, saw 5\\n'\n",
      "b'Skipping line 10539252: expected 3 fields, saw 4\\nSkipping line 10540872: expected 3 fields, saw 4\\nSkipping line 10547718: expected 3 fields, saw 4\\nSkipping line 10554859: expected 3 fields, saw 6\\nSkipping line 10555763: expected 3 fields, saw 4\\nSkipping line 10556131: expected 3 fields, saw 5\\nSkipping line 10556691: expected 3 fields, saw 4\\nSkipping line 10556852: expected 3 fields, saw 4\\nSkipping line 10652624: expected 3 fields, saw 4\\nSkipping line 10707618: expected 3 fields, saw 5\\nSkipping line 10711276: expected 3 fields, saw 4\\nSkipping line 10732659: expected 3 fields, saw 4\\n'\n",
      "b'Skipping line 10804777: expected 3 fields, saw 4\\nSkipping line 10853081: expected 3 fields, saw 4\\n'\n",
      "b'Skipping line 11142693: expected 3 fields, saw 4\\nSkipping line 11146043: expected 3 fields, saw 4\\nSkipping line 11146569: expected 3 fields, saw 5\\nSkipping line 11147298: expected 3 fields, saw 4\\nSkipping line 11149250: expected 3 fields, saw 5\\nSkipping line 11162858: expected 3 fields, saw 4\\nSkipping line 11165693: expected 3 fields, saw 4\\nSkipping line 11166332: expected 3 fields, saw 4\\nSkipping line 11166402: expected 3 fields, saw 6\\n'\n",
      "b'Skipping line 11641593: expected 3 fields, saw 4\\nSkipping line 11669595: expected 3 fields, saw 4\\nSkipping line 11670532: expected 3 fields, saw 4\\n'\n",
      "b'Skipping line 12255854: expected 3 fields, saw 4\\nSkipping line 12262144: expected 3 fields, saw 4\\n'\n",
      "b'Skipping line 12368532: expected 3 fields, saw 5\\nSkipping line 12442837: expected 3 fields, saw 4\\nSkipping line 12497841: expected 3 fields, saw 4\\nSkipping line 12519912: expected 3 fields, saw 4\\nSkipping line 12525649: expected 3 fields, saw 4\\nSkipping line 12540780: expected 3 fields, saw 6\\n'\n",
      "b'Skipping line 12620017: expected 3 fields, saw 4\\nSkipping line 12620613: expected 3 fields, saw 8\\nSkipping line 12643503: expected 3 fields, saw 4\\nSkipping line 12659526: expected 3 fields, saw 4\\nSkipping line 12679976: expected 3 fields, saw 4\\nSkipping line 12721469: expected 3 fields, saw 4\\n'\n",
      "b'Skipping line 13082722: expected 3 fields, saw 4\\n'\n",
      "b'Skipping line 13161677: expected 3 fields, saw 4\\nSkipping line 13200294: expected 3 fields, saw 4\\nSkipping line 13212324: expected 3 fields, saw 4\\n'\n",
      "b'Skipping line 13604335: expected 3 fields, saw 4\\nSkipping line 13609388: expected 3 fields, saw 5\\n'\n",
      "b'Skipping line 13864234: expected 3 fields, saw 4\\nSkipping line 13864631: expected 3 fields, saw 7\\nSkipping line 13866427: expected 3 fields, saw 4\\nSkipping line 13866727: expected 3 fields, saw 4\\nSkipping line 13866980: expected 3 fields, saw 4\\nSkipping line 13881370: expected 3 fields, saw 5\\nSkipping line 13891743: expected 3 fields, saw 4\\n'\n",
      "b'Skipping line 13916742: expected 3 fields, saw 4\\n'\n",
      "b'Skipping line 14168642: expected 3 fields, saw 5\\nSkipping line 14239441: expected 3 fields, saw 4\\nSkipping line 14305655: expected 3 fields, saw 5\\n'\n",
      "b'Skipping line 14501014: expected 3 fields, saw 7\\n'\n",
      "b'Skipping line 14937972: expected 3 fields, saw 4\\n'\n",
      "b'Skipping line 14952676: expected 3 fields, saw 4\\nSkipping line 14972311: expected 3 fields, saw 4\\nSkipping line 14972738: expected 3 fields, saw 4\\nSkipping line 14982478: expected 3 fields, saw 4\\nSkipping line 14991707: expected 3 fields, saw 4\\nSkipping line 15027098: expected 3 fields, saw 4\\nSkipping line 15062469: expected 3 fields, saw 4\\nSkipping line 15062725: expected 3 fields, saw 4\\nSkipping line 15079913: expected 3 fields, saw 4\\nSkipping line 15080053: expected 3 fields, saw 5\\nSkipping line 15081654: expected 3 fields, saw 5\\nSkipping line 15093545: expected 3 fields, saw 5\\nSkipping line 15104661: expected 3 fields, saw 4\\nSkipping line 15115647: expected 3 fields, saw 4\\nSkipping line 15115927: expected 3 fields, saw 4\\nSkipping line 15119045: expected 3 fields, saw 4\\nSkipping line 15136030: expected 3 fields, saw 5\\nSkipping line 15161161: expected 3 fields, saw 4\\n'\n",
      "b'Skipping line 15205897: expected 3 fields, saw 4\\nSkipping line 15213637: expected 3 fields, saw 4\\nSkipping line 15265677: expected 3 fields, saw 5\\n'\n",
      "b'Skipping line 15635264: expected 3 fields, saw 4\\nSkipping line 15635289: expected 3 fields, saw 4\\nSkipping line 15635437: expected 3 fields, saw 4\\nSkipping line 15635742: expected 3 fields, saw 4\\nSkipping line 15635750: expected 3 fields, saw 6\\nSkipping line 15635779: expected 3 fields, saw 4\\nSkipping line 15635867: expected 3 fields, saw 4\\nSkipping line 15635972: expected 3 fields, saw 6\\nSkipping line 15636936: expected 3 fields, saw 4\\nSkipping line 15636937: expected 3 fields, saw 4\\nSkipping line 15636938: expected 3 fields, saw 4\\nSkipping line 15636939: expected 3 fields, saw 4\\nSkipping line 15636940: expected 3 fields, saw 4\\nSkipping line 15636941: expected 3 fields, saw 4\\nSkipping line 15636942: expected 3 fields, saw 4\\nSkipping line 15636943: expected 3 fields, saw 4\\nSkipping line 15636944: expected 3 fields, saw 4\\nSkipping line 15636945: expected 3 fields, saw 4\\nSkipping line 15636946: expected 3 fields, saw 4\\nSkipping line 15636947: expected 3 fields, saw 4\\nSkipping line 15636948: expected 3 fields, saw 4\\nSkipping line 15636949: expected 3 fields, saw 4\\nSkipping line 15636950: expected 3 fields, saw 4\\nSkipping line 15636951: expected 3 fields, saw 4\\nSkipping line 15636952: expected 3 fields, saw 4\\nSkipping line 15636953: expected 3 fields, saw 4\\nSkipping line 15636954: expected 3 fields, saw 4\\nSkipping line 15636955: expected 3 fields, saw 4\\nSkipping line 15636956: expected 3 fields, saw 4\\nSkipping line 15637083: expected 3 fields, saw 4\\nSkipping line 15645209: expected 3 fields, saw 4\\nSkipping line 15652175: expected 3 fields, saw 4\\nSkipping line 15728003: expected 3 fields, saw 4\\n'\n"
     ]
    },
    {
     "name": "stderr",
     "output_type": "stream",
     "text": [
      "b'Skipping line 15734129: expected 3 fields, saw 4\\nSkipping line 15752765: expected 3 fields, saw 6\\nSkipping line 15769583: expected 3 fields, saw 4\\nSkipping line 15781757: expected 3 fields, saw 4\\nSkipping line 15834874: expected 3 fields, saw 4\\nSkipping line 15842460: expected 3 fields, saw 4\\nSkipping line 15850930: expected 3 fields, saw 4\\nSkipping line 15862314: expected 3 fields, saw 4\\nSkipping line 15884666: expected 3 fields, saw 4\\nSkipping line 15924986: expected 3 fields, saw 4\\n'\n",
      "b'Skipping line 16290662: expected 3 fields, saw 4\\n'\n",
      "b'Skipping line 16789516: expected 3 fields, saw 6\\nSkipping line 16789595: expected 3 fields, saw 7\\nSkipping line 16790161: expected 3 fields, saw 4\\nSkipping line 16791590: expected 3 fields, saw 5\\nSkipping line 16791638: expected 3 fields, saw 4\\nSkipping line 16791852: expected 3 fields, saw 6\\nSkipping line 16791875: expected 3 fields, saw 5\\nSkipping line 16792211: expected 3 fields, saw 4\\nSkipping line 16796652: expected 3 fields, saw 8\\nSkipping line 16805827: expected 3 fields, saw 4\\nSkipping line 16805892: expected 3 fields, saw 4\\nSkipping line 16807503: expected 3 fields, saw 5\\nSkipping line 16808144: expected 3 fields, saw 4\\nSkipping line 16808805: expected 3 fields, saw 4\\nSkipping line 16809441: expected 3 fields, saw 4\\n'\n",
      "b'Skipping line 17598418: expected 3 fields, saw 7\\nSkipping line 17710395: expected 3 fields, saw 4\\nSkipping line 17824189: expected 3 fields, saw 4\\n'\n",
      "b'Skipping line 18041958: expected 3 fields, saw 4\\n'\n",
      "b'Skipping line 18793721: expected 3 fields, saw 7\\n'\n",
      "b'Skipping line 19218715: expected 3 fields, saw 5\\nSkipping line 19349062: expected 3 fields, saw 4\\nSkipping line 19376592: expected 3 fields, saw 4\\n'\n",
      "b'Skipping line 19429544: expected 3 fields, saw 4\\nSkipping line 19636566: expected 3 fields, saw 4\\n'\n",
      "b'Skipping line 19744313: expected 3 fields, saw 4\\n'\n",
      "b'Skipping line 20066178: expected 3 fields, saw 4\\n'\n",
      "b'Skipping line 20446241: expected 3 fields, saw 4\\n'\n",
      "b'Skipping line 20776108: expected 3 fields, saw 5\\nSkipping line 20960391: expected 3 fields, saw 4\\nSkipping line 20960462: expected 3 fields, saw 6\\nSkipping line 20960471: expected 3 fields, saw 5\\nSkipping line 20960500: expected 3 fields, saw 5\\nSkipping line 20960656: expected 3 fields, saw 4\\nSkipping line 20960691: expected 3 fields, saw 6\\nSkipping line 20960694: expected 3 fields, saw 4\\nSkipping line 20960696: expected 3 fields, saw 4\\nSkipping line 20960701: expected 3 fields, saw 4\\nSkipping line 20960733: expected 3 fields, saw 4\\nSkipping line 20960755: expected 3 fields, saw 4\\nSkipping line 20960924: expected 3 fields, saw 5\\nSkipping line 20961029: expected 3 fields, saw 5\\nSkipping line 20961813: expected 3 fields, saw 4\\nSkipping line 20961983: expected 3 fields, saw 4\\nSkipping line 20961984: expected 3 fields, saw 4\\nSkipping line 20961985: expected 3 fields, saw 4\\nSkipping line 20961986: expected 3 fields, saw 4\\nSkipping line 20961987: expected 3 fields, saw 4\\nSkipping line 20961988: expected 3 fields, saw 4\\nSkipping line 20961989: expected 3 fields, saw 4\\nSkipping line 20961990: expected 3 fields, saw 4\\nSkipping line 20961992: expected 3 fields, saw 4\\nSkipping line 20961993: expected 3 fields, saw 4\\nSkipping line 20961994: expected 3 fields, saw 4\\nSkipping line 20961995: expected 3 fields, saw 4\\nSkipping line 20961996: expected 3 fields, saw 4\\nSkipping line 20961997: expected 3 fields, saw 4\\nSkipping line 20961998: expected 3 fields, saw 4\\nSkipping line 20961999: expected 3 fields, saw 4\\nSkipping line 20962000: expected 3 fields, saw 4\\nSkipping line 20962001: expected 3 fields, saw 4\\nSkipping line 20962002: expected 3 fields, saw 4\\nSkipping line 20962038: expected 3 fields, saw 5\\n'\n",
      "b'Skipping line 20973011: expected 3 fields, saw 6\\nSkipping line 21002436: expected 3 fields, saw 4\\nSkipping line 21010739: expected 3 fields, saw 4\\nSkipping line 21048664: expected 3 fields, saw 4\\nSkipping line 21196337: expected 3 fields, saw 4\\nSkipping line 21199562: expected 3 fields, saw 4\\nSkipping line 21200644: expected 3 fields, saw 4\\nSkipping line 21202554: expected 3 fields, saw 4\\nSkipping line 21202730: expected 3 fields, saw 5\\nSkipping line 21219019: expected 3 fields, saw 5\\nSkipping line 21219502: expected 3 fields, saw 4\\nSkipping line 21220169: expected 3 fields, saw 4\\n'\n",
      "b'Skipping line 21647674: expected 3 fields, saw 4\\nSkipping line 21665494: expected 3 fields, saw 4\\nSkipping line 21689611: expected 3 fields, saw 4\\n'\n",
      "b'Skipping line 21818589: expected 3 fields, saw 4\\nSkipping line 21896378: expected 3 fields, saw 4\\nSkipping line 21974251: expected 3 fields, saw 4\\nSkipping line 22003801: expected 3 fields, saw 4\\nSkipping line 22011035: expected 3 fields, saw 4\\nSkipping line 22017075: expected 3 fields, saw 4\\n'\n",
      "b'Skipping line 22042677: expected 3 fields, saw 4\\nSkipping line 22064635: expected 3 fields, saw 4\\nSkipping line 22071564: expected 3 fields, saw 5\\n'\n",
      "b'Skipping line 22724958: expected 3 fields, saw 4\\nSkipping line 22746775: expected 3 fields, saw 4\\nSkipping line 22750428: expected 3 fields, saw 4\\nSkipping line 22763003: expected 3 fields, saw 4\\nSkipping line 22765891: expected 3 fields, saw 4\\nSkipping line 22779377: expected 3 fields, saw 4\\nSkipping line 22784734: expected 3 fields, saw 4\\nSkipping line 22786785: expected 3 fields, saw 4\\nSkipping line 22805817: expected 3 fields, saw 4\\n'\n",
      "b'Skipping line 22811743: expected 3 fields, saw 4\\nSkipping line 22817198: expected 3 fields, saw 4\\nSkipping line 22871455: expected 3 fields, saw 5\\nSkipping line 22879561: expected 3 fields, saw 5\\n'\n",
      "b'Skipping line 23175069: expected 3 fields, saw 6\\nSkipping line 23208841: expected 3 fields, saw 4\\nSkipping line 23208848: expected 3 fields, saw 4\\nSkipping line 23208899: expected 3 fields, saw 4\\nSkipping line 23208983: expected 3 fields, saw 4\\nSkipping line 23208998: expected 3 fields, saw 4\\nSkipping line 23209106: expected 3 fields, saw 5\\nSkipping line 23209143: expected 3 fields, saw 5\\nSkipping line 23209149: expected 3 fields, saw 4\\nSkipping line 23209386: expected 3 fields, saw 4\\nSkipping line 23210393: expected 3 fields, saw 4\\nSkipping line 23210394: expected 3 fields, saw 4\\nSkipping line 23210395: expected 3 fields, saw 4\\nSkipping line 23210396: expected 3 fields, saw 4\\nSkipping line 23210397: expected 3 fields, saw 4\\nSkipping line 23210398: expected 3 fields, saw 4\\nSkipping line 23210399: expected 3 fields, saw 4\\nSkipping line 23210400: expected 3 fields, saw 4\\nSkipping line 23210401: expected 3 fields, saw 4\\nSkipping line 23210402: expected 3 fields, saw 4\\nSkipping line 23210403: expected 3 fields, saw 4\\nSkipping line 23210404: expected 3 fields, saw 4\\nSkipping line 23210405: expected 3 fields, saw 4\\nSkipping line 23210406: expected 3 fields, saw 4\\nSkipping line 23210407: expected 3 fields, saw 4\\nSkipping line 23210408: expected 3 fields, saw 4\\nSkipping line 23210409: expected 3 fields, saw 4\\nSkipping line 23210410: expected 3 fields, saw 4\\nSkipping line 23210411: expected 3 fields, saw 4\\nSkipping line 23210412: expected 3 fields, saw 4\\nSkipping line 23210413: expected 3 fields, saw 4\\nSkipping line 23210414: expected 3 fields, saw 4\\nSkipping line 23210415: expected 3 fields, saw 4\\nSkipping line 23210416: expected 3 fields, saw 4\\nSkipping line 23210417: expected 3 fields, saw 4\\nSkipping line 23210418: expected 3 fields, saw 4\\nSkipping line 23210419: expected 3 fields, saw 4\\nSkipping line 23210420: expected 3 fields, saw 4\\nSkipping line 23210422: expected 3 fields, saw 4\\nSkipping line 23210467: expected 3 fields, saw 5\\n'\n",
      "b'Skipping line 23595878: expected 3 fields, saw 4\\nSkipping line 23595982: expected 3 fields, saw 10\\nSkipping line 23709775: expected 3 fields, saw 6\\nSkipping line 23710085: expected 3 fields, saw 4\\nSkipping line 23710140: expected 3 fields, saw 6\\nSkipping line 23710199: expected 3 fields, saw 5\\nSkipping line 23710238: expected 3 fields, saw 4\\nSkipping line 23710376: expected 3 fields, saw 7\\nSkipping line 23710398: expected 3 fields, saw 5\\nSkipping line 23710502: expected 3 fields, saw 5\\nSkipping line 23710507: expected 3 fields, saw 4\\nSkipping line 23711409: expected 3 fields, saw 4\\nSkipping line 23711410: expected 3 fields, saw 4\\nSkipping line 23711411: expected 3 fields, saw 4\\nSkipping line 23711412: expected 3 fields, saw 4\\nSkipping line 23711413: expected 3 fields, saw 4\\nSkipping line 23711414: expected 3 fields, saw 4\\nSkipping line 23711415: expected 3 fields, saw 4\\nSkipping line 23711416: expected 3 fields, saw 4\\nSkipping line 23711417: expected 3 fields, saw 4\\nSkipping line 23711418: expected 3 fields, saw 4\\nSkipping line 23711419: expected 3 fields, saw 4\\nSkipping line 23711420: expected 3 fields, saw 4\\nSkipping line 23711421: expected 3 fields, saw 4\\nSkipping line 23711422: expected 3 fields, saw 4\\nSkipping line 23722489: expected 3 fields, saw 5\\nSkipping line 23722497: expected 3 fields, saw 6\\nSkipping line 23722500: expected 3 fields, saw 6\\nSkipping line 23724788: expected 3 fields, saw 4\\nSkipping line 23732416: expected 3 fields, saw 5\\nSkipping line 23740367: expected 3 fields, saw 4\\nSkipping line 23743162: expected 3 fields, saw 4\\n'\n",
      "b'Skipping line 24083446: expected 3 fields, saw 4\\nSkipping line 24086116: expected 3 fields, saw 5\\nSkipping line 24088101: expected 3 fields, saw 5\\nSkipping line 24104671: expected 3 fields, saw 4\\n'\n"
     ]
    },
    {
     "name": "stderr",
     "output_type": "stream",
     "text": [
      "b'Skipping line 24715682: expected 3 fields, saw 5\\nSkipping line 24715797: expected 3 fields, saw 4\\nSkipping line 24715825: expected 3 fields, saw 5\\n'\n",
      "b'Skipping line 25165705: expected 3 fields, saw 4\\nSkipping line 25165771: expected 3 fields, saw 4\\n'\n",
      "b'Skipping line 25297915: expected 3 fields, saw 4\\n'\n",
      "b'Skipping line 25711791: expected 3 fields, saw 7\\nSkipping line 25767773: expected 3 fields, saw 4\\nSkipping line 25814583: expected 3 fields, saw 4\\nSkipping line 25823495: expected 3 fields, saw 5\\nSkipping line 25834355: expected 3 fields, saw 5\\n'\n",
      "b'Skipping line 26264934: expected 3 fields, saw 5\\nSkipping line 26264992: expected 3 fields, saw 5\\nSkipping line 26277848: expected 3 fields, saw 4\\nSkipping line 26289264: expected 3 fields, saw 4\\nSkipping line 26294492: expected 3 fields, saw 4\\nSkipping line 26299966: expected 3 fields, saw 4\\nSkipping line 26300302: expected 3 fields, saw 4\\n'\n",
      "b'Skipping line 26584728: expected 3 fields, saw 4\\nSkipping line 26639704: expected 3 fields, saw 4\\nSkipping line 26665327: expected 3 fields, saw 4\\nSkipping line 26700839: expected 3 fields, saw 4\\nSkipping line 26700923: expected 3 fields, saw 4\\nSkipping line 26700950: expected 3 fields, saw 4\\nSkipping line 26701033: expected 3 fields, saw 8\\nSkipping line 26701045: expected 3 fields, saw 4\\nSkipping line 26701128: expected 3 fields, saw 4\\nSkipping line 26701140: expected 3 fields, saw 4\\nSkipping line 26701203: expected 3 fields, saw 4\\nSkipping line 26701445: expected 3 fields, saw 5\\nSkipping line 26701470: expected 3 fields, saw 8\\nSkipping line 26702382: expected 3 fields, saw 4\\nSkipping line 26702383: expected 3 fields, saw 4\\nSkipping line 26702384: expected 3 fields, saw 4\\nSkipping line 26702385: expected 3 fields, saw 4\\nSkipping line 26702386: expected 3 fields, saw 4\\nSkipping line 26702387: expected 3 fields, saw 4\\nSkipping line 26702388: expected 3 fields, saw 4\\nSkipping line 26702389: expected 3 fields, saw 4\\nSkipping line 26702390: expected 3 fields, saw 4\\nSkipping line 26702391: expected 3 fields, saw 4\\nSkipping line 26702392: expected 3 fields, saw 4\\nSkipping line 26702393: expected 3 fields, saw 4\\nSkipping line 26702394: expected 3 fields, saw 4\\nSkipping line 26702395: expected 3 fields, saw 4\\nSkipping line 26702396: expected 3 fields, saw 4\\nSkipping line 26702397: expected 3 fields, saw 4\\nSkipping line 26702398: expected 3 fields, saw 4\\nSkipping line 26702399: expected 3 fields, saw 4\\nSkipping line 26702400: expected 3 fields, saw 4\\nSkipping line 26702401: expected 3 fields, saw 4\\nSkipping line 26702402: expected 3 fields, saw 4\\nSkipping line 26702403: expected 3 fields, saw 4\\nSkipping line 26702404: expected 3 fields, saw 4\\n'\n",
      "b'Skipping line 27072588: expected 3 fields, saw 5\\nSkipping line 27078054: expected 3 fields, saw 4\\nSkipping line 27078182: expected 3 fields, saw 4\\nSkipping line 27081210: expected 3 fields, saw 4\\nSkipping line 27082755: expected 3 fields, saw 6\\nSkipping line 27082885: expected 3 fields, saw 4\\nSkipping line 27091625: expected 3 fields, saw 5\\nSkipping line 27091626: expected 3 fields, saw 6\\nSkipping line 27093616: expected 3 fields, saw 7\\nSkipping line 27093870: expected 3 fields, saw 7\\nSkipping line 27095400: expected 3 fields, saw 4\\n'\n",
      "b'Skipping line 27984014: expected 3 fields, saw 6\\nSkipping line 27984045: expected 3 fields, saw 5\\nSkipping line 27992936: expected 3 fields, saw 4\\nSkipping line 28026913: expected 3 fields, saw 4\\n'\n",
      "b'Skipping line 28077833: expected 3 fields, saw 4\\nSkipping line 28096029: expected 3 fields, saw 4\\nSkipping line 28108041: expected 3 fields, saw 4\\nSkipping line 28143699: expected 3 fields, saw 4\\nSkipping line 28220735: expected 3 fields, saw 4\\n'\n",
      "b'Skipping line 28428586: expected 3 fields, saw 5\\nSkipping line 28442436: expected 3 fields, saw 4\\nSkipping line 28483684: expected 3 fields, saw 4\\n'\n",
      "b'Skipping line 28588266: expected 3 fields, saw 4\\nSkipping line 28817274: expected 3 fields, saw 5\\n'\n",
      "b'Skipping line 29012278: expected 3 fields, saw 4\\n'\n",
      "b'Skipping line 29288195: expected 3 fields, saw 5\\nSkipping line 29295928: expected 3 fields, saw 7\\nSkipping line 29298104: expected 3 fields, saw 4\\nSkipping line 29299210: expected 3 fields, saw 6\\nSkipping line 29305888: expected 3 fields, saw 4\\nSkipping line 29312883: expected 3 fields, saw 5\\nSkipping line 29315209: expected 3 fields, saw 4\\nSkipping line 29315574: expected 3 fields, saw 5\\nSkipping line 29316034: expected 3 fields, saw 6\\nSkipping line 29316375: expected 3 fields, saw 4\\n'\n",
      "b'Skipping line 30179404: expected 3 fields, saw 4\\n'\n",
      "b'Skipping line 30862973: expected 3 fields, saw 4\\n'\n",
      "b'Skipping line 31163122: expected 3 fields, saw 5\\nSkipping line 31163123: expected 3 fields, saw 6\\nSkipping line 31163523: expected 3 fields, saw 4\\n'\n",
      "b'Skipping line 31210111: expected 3 fields, saw 6\\nSkipping line 31392260: expected 3 fields, saw 4\\nSkipping line 31407905: expected 3 fields, saw 4\\nSkipping line 31437375: expected 3 fields, saw 4\\nSkipping line 31444525: expected 3 fields, saw 4\\nSkipping line 31455727: expected 3 fields, saw 5\\n'\n",
      "b'Skipping line 31477811: expected 3 fields, saw 4\\nSkipping line 31492794: expected 3 fields, saw 4\\nSkipping line 31493373: expected 3 fields, saw 4\\n'\n",
      "b'Skipping line 31804576: expected 3 fields, saw 4\\nSkipping line 31859353: expected 3 fields, saw 4\\n'\n",
      "b'Skipping line 32409515: expected 3 fields, saw 4\\nSkipping line 32418393: expected 3 fields, saw 4\\nSkipping line 32446148: expected 3 fields, saw 4\\n'\n",
      "b'Skipping line 32889903: expected 3 fields, saw 4\\n'\n",
      "b'Skipping line 33429003: expected 3 fields, saw 7\\nSkipping line 33483537: expected 3 fields, saw 4\\nSkipping line 33490709: expected 3 fields, saw 4\\n'\n",
      "b'Skipping line 33676187: expected 3 fields, saw 4\\nSkipping line 33723025: expected 3 fields, saw 4\\n'\n",
      "b'Skipping line 34302209: expected 3 fields, saw 4\\n'\n",
      "b'Skipping line 34813765: expected 3 fields, saw 5\\nSkipping line 34813870: expected 3 fields, saw 4\\nSkipping line 34813883: expected 3 fields, saw 4\\nSkipping line 34813884: expected 3 fields, saw 8\\nSkipping line 34813945: expected 3 fields, saw 4\\nSkipping line 34813991: expected 3 fields, saw 6\\nSkipping line 34814105: expected 3 fields, saw 6\\nSkipping line 34814144: expected 3 fields, saw 4\\nSkipping line 34814166: expected 3 fields, saw 5\\nSkipping line 34814167: expected 3 fields, saw 5\\nSkipping line 34814176: expected 3 fields, saw 5\\nSkipping line 34814184: expected 3 fields, saw 4\\nSkipping line 34814341: expected 3 fields, saw 8\\nSkipping line 34814380: expected 3 fields, saw 5\\nSkipping line 34814487: expected 3 fields, saw 4\\nSkipping line 34814522: expected 3 fields, saw 6\\nSkipping line 34814534: expected 3 fields, saw 7\\nSkipping line 34814546: expected 3 fields, saw 4\\nSkipping line 34814576: expected 3 fields, saw 5\\nSkipping line 34814581: expected 3 fields, saw 4\\nSkipping line 34815491: expected 3 fields, saw 4\\nSkipping line 34815492: expected 3 fields, saw 4\\nSkipping line 34815493: expected 3 fields, saw 4\\nSkipping line 34815494: expected 3 fields, saw 4\\nSkipping line 34815495: expected 3 fields, saw 4\\nSkipping line 34815496: expected 3 fields, saw 4\\nSkipping line 34815497: expected 3 fields, saw 4\\nSkipping line 34815498: expected 3 fields, saw 4\\nSkipping line 34815499: expected 3 fields, saw 4\\nSkipping line 34815500: expected 3 fields, saw 4\\nSkipping line 34815501: expected 3 fields, saw 4\\nSkipping line 34815502: expected 3 fields, saw 4\\nSkipping line 34815503: expected 3 fields, saw 4\\nSkipping line 34815504: expected 3 fields, saw 4\\nSkipping line 34815505: expected 3 fields, saw 4\\nSkipping line 34815506: expected 3 fields, saw 4\\nSkipping line 34815507: expected 3 fields, saw 4\\nSkipping line 34815508: expected 3 fields, saw 4\\nSkipping line 34815509: expected 3 fields, saw 4\\nSkipping line 34815510: expected 3 fields, saw 4\\nSkipping line 34815511: expected 3 fields, saw 4\\nSkipping line 34815512: expected 3 fields, saw 4\\nSkipping line 34815513: expected 3 fields, saw 4\\nSkipping line 34815645: expected 3 fields, saw 5\\nSkipping line 34826504: expected 3 fields, saw 5\\nSkipping line 34844958: expected 3 fields, saw 4\\n'\n",
      "b'Skipping line 34878603: expected 3 fields, saw 4\\nSkipping line 35065982: expected 3 fields, saw 4\\nSkipping line 35085415: expected 3 fields, saw 5\\nSkipping line 35085849: expected 3 fields, saw 7\\n'\n"
     ]
    },
    {
     "name": "stderr",
     "output_type": "stream",
     "text": [
      "b'Skipping line 35293167: expected 3 fields, saw 4\\nSkipping line 35308847: expected 3 fields, saw 5\\nSkipping line 35308850: expected 3 fields, saw 5\\nSkipping line 35308854: expected 3 fields, saw 4\\nSkipping line 35308922: expected 3 fields, saw 5\\nSkipping line 35309036: expected 3 fields, saw 5\\nSkipping line 35309133: expected 3 fields, saw 4\\nSkipping line 35309141: expected 3 fields, saw 4\\nSkipping line 35309159: expected 3 fields, saw 4\\nSkipping line 35309212: expected 3 fields, saw 5\\nSkipping line 35309222: expected 3 fields, saw 5\\nSkipping line 35309233: expected 3 fields, saw 4\\nSkipping line 35309387: expected 3 fields, saw 4\\nSkipping line 35309407: expected 3 fields, saw 5\\nSkipping line 35309457: expected 3 fields, saw 4\\nSkipping line 35310407: expected 3 fields, saw 4\\nSkipping line 35310408: expected 3 fields, saw 4\\nSkipping line 35310409: expected 3 fields, saw 4\\nSkipping line 35310410: expected 3 fields, saw 4\\nSkipping line 35310411: expected 3 fields, saw 4\\nSkipping line 35310412: expected 3 fields, saw 4\\nSkipping line 35310413: expected 3 fields, saw 4\\nSkipping line 35310414: expected 3 fields, saw 4\\nSkipping line 35310415: expected 3 fields, saw 4\\nSkipping line 35310416: expected 3 fields, saw 4\\nSkipping line 35310417: expected 3 fields, saw 4\\nSkipping line 35310418: expected 3 fields, saw 4\\nSkipping line 35310419: expected 3 fields, saw 4\\nSkipping line 35310420: expected 3 fields, saw 4\\nSkipping line 35310421: expected 3 fields, saw 4\\nSkipping line 35310422: expected 3 fields, saw 4\\nSkipping line 35310423: expected 3 fields, saw 4\\nSkipping line 35310424: expected 3 fields, saw 4\\nSkipping line 35310425: expected 3 fields, saw 4\\nSkipping line 35310426: expected 3 fields, saw 4\\nSkipping line 35310427: expected 3 fields, saw 4\\nSkipping line 35310428: expected 3 fields, saw 4\\nSkipping line 35310429: expected 3 fields, saw 4\\nSkipping line 35310430: expected 3 fields, saw 4\\nSkipping line 35310431: expected 3 fields, saw 4\\nSkipping line 35310432: expected 3 fields, saw 4\\nSkipping line 35310433: expected 3 fields, saw 4\\nSkipping line 35310434: expected 3 fields, saw 4\\nSkipping line 35310435: expected 3 fields, saw 4\\nSkipping line 35310436: expected 3 fields, saw 4\\nSkipping line 35310437: expected 3 fields, saw 4\\nSkipping line 35310541: expected 3 fields, saw 6\\n'\n",
      "b'Skipping line 35963657: expected 3 fields, saw 4\\nSkipping line 35978187: expected 3 fields, saw 4\\nSkipping line 35994339: expected 3 fields, saw 5\\nSkipping line 35994758: expected 3 fields, saw 4\\nSkipping line 35994867: expected 3 fields, saw 4\\nSkipping line 35995798: expected 3 fields, saw 4\\nSkipping line 35998294: expected 3 fields, saw 4\\nSkipping line 36060938: expected 3 fields, saw 5\\n'\n",
      "b'Skipping line 36289880: expected 3 fields, saw 4\\n'\n",
      "b'Skipping line 36459070: expected 3 fields, saw 4\\n'\n",
      "b'Skipping line 36983382: expected 3 fields, saw 4\\n'\n",
      "b'Skipping line 37810649: expected 3 fields, saw 5\\n'\n"
     ]
    }
   ],
   "source": [
    "df = joinData('es', 'de')"
   ]
  },
  {
   "cell_type": "code",
   "execution_count": 31,
   "metadata": {},
   "outputs": [
    {
     "ename": "AttributeError",
     "evalue": "'NoneType' object has no attribute 'head'",
     "output_type": "error",
     "traceback": [
      "\u001b[0;31m---------------------------------------------------------------------------\u001b[0m",
      "\u001b[0;31mAttributeError\u001b[0m                            Traceback (most recent call last)",
      "\u001b[0;32m<ipython-input-31-c42a15b2c7cf>\u001b[0m in \u001b[0;36m<module>\u001b[0;34m\u001b[0m\n\u001b[0;32m----> 1\u001b[0;31m \u001b[0mdf\u001b[0m\u001b[0;34m.\u001b[0m\u001b[0mhead\u001b[0m\u001b[0;34m(\u001b[0m\u001b[0;34m)\u001b[0m\u001b[0;34m\u001b[0m\u001b[0;34m\u001b[0m\u001b[0m\n\u001b[0m",
      "\u001b[0;31mAttributeError\u001b[0m: 'NoneType' object has no attribute 'head'"
     ]
    }
   ],
   "source": [
    "df.head()"
   ]
  },
  {
   "cell_type": "code",
   "execution_count": 10,
   "metadata": {
    "colab": {
     "base_uri": "https://localhost:8080/",
     "height": 51
    },
    "colab_type": "code",
    "id": "ui-6W_80LmE6",
    "outputId": "7b1782dd-da10-4bcd-ac91-cb1fc207862a"
   },
   "outputs": [
    {
     "name": "stderr",
     "output_type": "stream",
     "text": [
      "\n",
      "\n"
     ]
    }
   ],
   "source": [
    "model = {}\n",
    "source_language = 'en'\n",
    "target_language = 'es'\n",
    "model['en'] = fasttext.load_model('/scratch/dev241/capstone/fast/wiki.en.bin')\n",
    "model['es'] = fasttext.load_model('/scratch/dev241/capstone/fast/wiki.es.bin')"
   ]
  },
  {
   "cell_type": "code",
   "execution_count": 20,
   "metadata": {},
   "outputs": [],
   "source": [
    "test = pd.read_csv('/scratch/ah3243/content_test.csv') #trans_test_en_es.csv') #same for everyone\n",
    "train = loadData('en', 'es')"
   ]
  },
  {
   "cell_type": "code",
   "execution_count": 12,
   "metadata": {},
   "outputs": [
    {
     "data": {
      "text/html": [
       "<div>\n",
       "<style scoped>\n",
       "    .dataframe tbody tr th:only-of-type {\n",
       "        vertical-align: middle;\n",
       "    }\n",
       "\n",
       "    .dataframe tbody tr th {\n",
       "        vertical-align: top;\n",
       "    }\n",
       "\n",
       "    .dataframe thead th {\n",
       "        text-align: right;\n",
       "    }\n",
       "</style>\n",
       "<table border=\"1\" class=\"dataframe\">\n",
       "  <thead>\n",
       "    <tr style=\"text-align: right;\">\n",
       "      <th></th>\n",
       "      <th>Unnamed: 0</th>\n",
       "      <th>source</th>\n",
       "      <th>target</th>\n",
       "    </tr>\n",
       "  </thead>\n",
       "  <tbody>\n",
       "    <tr>\n",
       "      <th>0</th>\n",
       "      <td>0</td>\n",
       "      <td>how the player was acquired; qualifier for P54...</td>\n",
       "      <td>forma en que fue adquirido el jugador; calific...</td>\n",
       "    </tr>\n",
       "    <tr>\n",
       "      <th>1</th>\n",
       "      <td>1</td>\n",
       "      <td>rivers and other outflows waterway names. If e...</td>\n",
       "      <td>río que drena el lago</td>\n",
       "    </tr>\n",
       "    <tr>\n",
       "      <th>2</th>\n",
       "      <td>2</td>\n",
       "      <td>amount of goods and services bought from other...</td>\n",
       "      <td>cantidad de bienes y servicios comprados a otr...</td>\n",
       "    </tr>\n",
       "    <tr>\n",
       "      <th>3</th>\n",
       "      <td>3</td>\n",
       "      <td>Wikimedia list related to this subject</td>\n",
       "      <td>lista de Wikimedia para el elemento</td>\n",
       "    </tr>\n",
       "    <tr>\n",
       "      <th>4</th>\n",
       "      <td>4</td>\n",
       "      <td>identifier for a unique bibliographic record i...</td>\n",
       "      <td>número de control del Online Computer Library...</td>\n",
       "    </tr>\n",
       "  </tbody>\n",
       "</table>\n",
       "</div>"
      ],
      "text/plain": [
       "   Unnamed: 0                                             source  \\\n",
       "0           0  how the player was acquired; qualifier for P54...   \n",
       "1           1  rivers and other outflows waterway names. If e...   \n",
       "2           2  amount of goods and services bought from other...   \n",
       "3           3             Wikimedia list related to this subject   \n",
       "4           4  identifier for a unique bibliographic record i...   \n",
       "\n",
       "                                              target  \n",
       "0  forma en que fue adquirido el jugador; calific...  \n",
       "1                             río que drena el lago  \n",
       "2  cantidad de bienes y servicios comprados a otr...  \n",
       "3                lista de Wikimedia para el elemento  \n",
       "4  número de control del Online Computer Library...  "
      ]
     },
     "execution_count": 12,
     "metadata": {},
     "output_type": "execute_result"
    }
   ],
   "source": [
    "train.head()"
   ]
  },
  {
   "cell_type": "code",
   "execution_count": 13,
   "metadata": {},
   "outputs": [],
   "source": [
    "# train.columns = ['ID','source_lang', 'source', 'target_lang', 'target']"
   ]
  },
  {
   "cell_type": "code",
   "execution_count": 14,
   "metadata": {
    "colab": {},
    "colab_type": "code",
    "id": "JciKTIkqD30a"
   },
   "outputs": [
    {
     "name": "stderr",
     "output_type": "stream",
     "text": [
      "666867it [01:12, 9194.10it/s]\n"
     ]
    }
   ],
   "source": [
    "#Train\n",
    "bilingual_dictionary = list(zip(train['source'],train['target']))\n",
    "source_matrix, target_matrix = make_training_matrices(model['en'], model['es'], bilingual_dictionary)"
   ]
  },
  {
   "cell_type": "code",
   "execution_count": 15,
   "metadata": {},
   "outputs": [],
   "source": [
    "transform = learn_transformation(source_matrix, target_matrix)"
   ]
  },
  {
   "cell_type": "code",
   "execution_count": 16,
   "metadata": {},
   "outputs": [],
   "source": [
    "# np.savetxt('description_trans_transform_en_es.txt', transform)"
   ]
  },
  {
   "cell_type": "code",
   "execution_count": 17,
   "metadata": {},
   "outputs": [
    {
     "name": "stdout",
     "output_type": "stream",
     "text": [
      "Before trans: 0.01143723951168304\n"
     ]
    }
   ],
   "source": [
    "print(\"Before trans:\", np.mean(inner1d(target_matrix, source_matrix)))"
   ]
  },
  {
   "cell_type": "code",
   "execution_count": 18,
   "metadata": {},
   "outputs": [
    {
     "name": "stdout",
     "output_type": "stream",
     "text": [
      "After trans: 0.7768910814759667\n"
     ]
    }
   ],
   "source": [
    "print(\"After trans:\", np.mean(inner1d(normalized(target_matrix), np.matmul(transform, normalized(source_matrix).T).T)))"
   ]
  },
  {
   "cell_type": "code",
   "execution_count": 21,
   "metadata": {},
   "outputs": [
    {
     "name": "stderr",
     "output_type": "stream",
     "text": [
      "\n",
      "0it [00:00, ?it/s]\u001b[A\n",
      "83it [00:00, 822.90it/s]\u001b[A\n",
      "184it [00:00, 870.45it/s]\u001b[A\n",
      "317it [00:00, 970.48it/s]\u001b[A\n",
      "411it [00:00, 955.42it/s]\u001b[A\n",
      "513it [00:00, 971.82it/s]\u001b[A\n",
      "622it [00:00, 1002.71it/s]\u001b[A\n",
      "731it [00:00, 1026.74it/s]\u001b[A\n",
      "829it [00:00, 993.56it/s] \u001b[A\n",
      "927it [00:00, 962.71it/s]\u001b[A\n",
      "1021it [00:01, 913.95it/s]\u001b[A\n",
      "1141it [00:01, 984.10it/s]\u001b[A\n",
      "1247it [00:01, 1005.70it/s]\u001b[A\n",
      "1354it [00:01, 990.34it/s] \u001b[A\n",
      "1454it [00:01, 934.78it/s]\u001b[A\n",
      "1549it [00:01, 932.64it/s]\u001b[A\n",
      "1643it [00:01, 923.85it/s]\u001b[A\n",
      "1736it [00:01, 903.71it/s]\u001b[A\n",
      "1831it [00:01, 914.34it/s]\u001b[A\n",
      "1923it [00:02, 394.47it/s]\u001b[A\n",
      "2049it [00:02, 496.55it/s]\u001b[A\n",
      "2136it [00:02, 516.20it/s]\u001b[A\n",
      "2232it [00:02, 598.34it/s]\u001b[A\n",
      "2339it [00:02, 667.06it/s]\u001b[A\n",
      "2443it [00:03, 747.13it/s]\u001b[A\n",
      "2534it [00:03, 701.86it/s]\u001b[A\n",
      "2646it [00:03, 787.92it/s]\u001b[A\n",
      "2775it [00:03, 890.91it/s]\u001b[A\n",
      "2899it [00:03, 972.29it/s]\u001b[A\n",
      "3009it [00:03, 1006.96it/s]\u001b[A\n",
      "3118it [00:03, 1015.45it/s]\u001b[A\n",
      "3227it [00:03, 1036.71it/s]\u001b[A\n",
      "3342it [00:03, 1065.95it/s]\u001b[A\n",
      "3453it [00:03, 1059.57it/s]\u001b[A\n",
      "3562it [00:04, 871.89it/s] \u001b[A\n",
      "3657it [00:04, 656.12it/s]\u001b[A\n",
      "3781it [00:04, 763.39it/s]\u001b[A\n",
      "3899it [00:04, 852.96it/s]\u001b[A\n",
      "4004it [00:04, 890.46it/s]\u001b[A\n",
      "4104it [00:04, 897.08it/s]\u001b[A\n",
      "4209it [00:04, 935.04it/s]\u001b[A\n",
      "4309it [00:04, 944.71it/s]\u001b[A\n",
      "4408it [00:05, 836.02it/s]\u001b[A\n",
      "4508it [00:05, 874.38it/s]\u001b[A\n",
      "4601it [00:05, 823.46it/s]\u001b[A\n",
      "4692it [00:05, 845.96it/s]\u001b[A\n",
      "4805it [00:05, 913.48it/s]\u001b[A\n",
      "4916it [00:05, 962.93it/s]\u001b[A\n",
      "5018it [00:05, 978.67it/s]\u001b[A\n",
      "5119it [00:05, 950.93it/s]\u001b[A\n",
      "5216it [00:06, 766.76it/s]\u001b[A\n",
      "5317it [00:06, 810.89it/s]\u001b[A\n",
      "5433it [00:06, 889.16it/s]\u001b[A\n",
      "5535it [00:06, 918.19it/s]\u001b[A\n",
      "5632it [00:06, 815.16it/s]\u001b[A\n",
      "5740it [00:06, 879.69it/s]\u001b[A\n",
      "5834it [00:06, 845.69it/s]\u001b[A\n",
      "5954it [00:06, 927.33it/s]\u001b[A\n",
      "6064it [00:06, 973.15it/s]\u001b[A\n",
      "6166it [00:07, 933.56it/s]\u001b[A\n",
      "6263it [00:07, 874.71it/s]\u001b[A\n",
      "6354it [00:07, 873.54it/s]\u001b[A\n",
      "6453it [00:07, 904.16it/s]\u001b[A"
     ]
    },
    {
     "ename": "KeyboardInterrupt",
     "evalue": "",
     "output_type": "error",
     "traceback": [
      "\u001b[0;31m---------------------------------------------------------------------------\u001b[0m",
      "\u001b[0;31mKeyboardInterrupt\u001b[0m                         Traceback (most recent call last)",
      "\u001b[0;32m<ipython-input-21-8949c41b9b46>\u001b[0m in \u001b[0;36m<module>\u001b[0;34m\u001b[0m\n\u001b[1;32m      1\u001b[0m \u001b[0mbilingual_dictionary\u001b[0m \u001b[0;34m=\u001b[0m \u001b[0mlist\u001b[0m\u001b[0;34m(\u001b[0m\u001b[0mzip\u001b[0m\u001b[0;34m(\u001b[0m\u001b[0mtest\u001b[0m\u001b[0;34m[\u001b[0m\u001b[0;34m'source'\u001b[0m\u001b[0;34m]\u001b[0m\u001b[0;34m,\u001b[0m\u001b[0mtest\u001b[0m\u001b[0;34m[\u001b[0m\u001b[0;34m'target'\u001b[0m\u001b[0;34m]\u001b[0m\u001b[0;34m)\u001b[0m\u001b[0;34m)\u001b[0m\u001b[0;34m\u001b[0m\u001b[0;34m\u001b[0m\u001b[0m\n\u001b[1;32m      2\u001b[0m \u001b[0;34m\u001b[0m\u001b[0m\n\u001b[0;32m----> 3\u001b[0;31m \u001b[0msource_matrix_test\u001b[0m\u001b[0;34m,\u001b[0m \u001b[0mtarget_matrix_test\u001b[0m \u001b[0;34m=\u001b[0m \u001b[0mmake_training_matrices\u001b[0m\u001b[0;34m(\u001b[0m\u001b[0mmodel\u001b[0m\u001b[0;34m[\u001b[0m\u001b[0;34m'en'\u001b[0m\u001b[0;34m]\u001b[0m\u001b[0;34m,\u001b[0m \u001b[0mmodel\u001b[0m\u001b[0;34m[\u001b[0m\u001b[0;34m'es'\u001b[0m\u001b[0;34m]\u001b[0m\u001b[0;34m,\u001b[0m \u001b[0mbilingual_dictionary\u001b[0m\u001b[0;34m)\u001b[0m\u001b[0;34m\u001b[0m\u001b[0;34m\u001b[0m\u001b[0m\n\u001b[0m",
      "\u001b[0;32m<ipython-input-2-84ef8c89c679>\u001b[0m in \u001b[0;36mmake_training_matrices\u001b[0;34m(source_dictionary, target_dictionary, bilingual_dictionary)\u001b[0m\n\u001b[1;32m     26\u001b[0m     \u001b[0;32mfor\u001b[0m \u001b[0mi\u001b[0m\u001b[0;34m,\u001b[0m \u001b[0;34m(\u001b[0m\u001b[0msource\u001b[0m\u001b[0;34m,\u001b[0m \u001b[0mtarget\u001b[0m\u001b[0;34m)\u001b[0m \u001b[0;32min\u001b[0m \u001b[0mtqdm\u001b[0m\u001b[0;34m(\u001b[0m\u001b[0menumerate\u001b[0m\u001b[0;34m(\u001b[0m\u001b[0mbilingual_dictionary\u001b[0m\u001b[0;34m)\u001b[0m\u001b[0;34m)\u001b[0m\u001b[0;34m:\u001b[0m\u001b[0;34m\u001b[0m\u001b[0;34m\u001b[0m\u001b[0m\n\u001b[1;32m     27\u001b[0m \u001b[0;31m#         print(f'\\r{i + 1}/{len_bd} | {100 * (i + 1) / len_bd:.3f} %', end = '', flush = True)\u001b[0m\u001b[0;34m\u001b[0m\u001b[0;34m\u001b[0m\u001b[0;34m\u001b[0m\u001b[0m\n\u001b[0;32m---> 28\u001b[0;31m         \u001b[0msourceVector\u001b[0m \u001b[0;34m=\u001b[0m \u001b[0msource_dictionary\u001b[0m\u001b[0;34m.\u001b[0m\u001b[0mget_sentence_vector\u001b[0m\u001b[0;34m(\u001b[0m\u001b[0msource\u001b[0m\u001b[0;34m.\u001b[0m\u001b[0mlower\u001b[0m\u001b[0;34m(\u001b[0m\u001b[0;34m)\u001b[0m\u001b[0;34m.\u001b[0m\u001b[0mstrip\u001b[0m\u001b[0;34m(\u001b[0m\u001b[0;34m)\u001b[0m\u001b[0;34m.\u001b[0m\u001b[0mreplace\u001b[0m\u001b[0;34m(\u001b[0m\u001b[0;34m'_'\u001b[0m\u001b[0;34m,\u001b[0m\u001b[0;34m' '\u001b[0m\u001b[0;34m)\u001b[0m\u001b[0;34m)\u001b[0m\u001b[0;34m\u001b[0m\u001b[0;34m\u001b[0m\u001b[0m\n\u001b[0m\u001b[1;32m     29\u001b[0m         \u001b[0mtargetVector\u001b[0m \u001b[0;34m=\u001b[0m \u001b[0mtarget_dictionary\u001b[0m\u001b[0;34m.\u001b[0m\u001b[0mget_sentence_vector\u001b[0m\u001b[0;34m(\u001b[0m\u001b[0mtarget\u001b[0m\u001b[0;34m.\u001b[0m\u001b[0mlower\u001b[0m\u001b[0;34m(\u001b[0m\u001b[0;34m)\u001b[0m\u001b[0;34m.\u001b[0m\u001b[0mstrip\u001b[0m\u001b[0;34m(\u001b[0m\u001b[0;34m)\u001b[0m\u001b[0;34m.\u001b[0m\u001b[0mreplace\u001b[0m\u001b[0;34m(\u001b[0m\u001b[0;34m'_'\u001b[0m\u001b[0;34m,\u001b[0m\u001b[0;34m' '\u001b[0m\u001b[0;34m)\u001b[0m\u001b[0;34m)\u001b[0m\u001b[0;34m\u001b[0m\u001b[0;34m\u001b[0m\u001b[0m\n\u001b[1;32m     30\u001b[0m         \u001b[0msource_matrix\u001b[0m\u001b[0;34m.\u001b[0m\u001b[0mappend\u001b[0m\u001b[0;34m(\u001b[0m\u001b[0msourceVector\u001b[0m\u001b[0;34m)\u001b[0m\u001b[0;34m\u001b[0m\u001b[0;34m\u001b[0m\u001b[0m\n",
      "\u001b[0;32m/home/iav225/envs/capstone/lib/python3.6/site-packages/fasttext/FastText.py\u001b[0m in \u001b[0;36mget_sentence_vector\u001b[0;34m(self, text)\u001b[0m\n\u001b[1;32m     82\u001b[0m         \u001b[0mdim\u001b[0m \u001b[0;34m=\u001b[0m \u001b[0mself\u001b[0m\u001b[0;34m.\u001b[0m\u001b[0mget_dimension\u001b[0m\u001b[0;34m(\u001b[0m\u001b[0;34m)\u001b[0m\u001b[0;34m\u001b[0m\u001b[0;34m\u001b[0m\u001b[0m\n\u001b[1;32m     83\u001b[0m         \u001b[0mb\u001b[0m \u001b[0;34m=\u001b[0m \u001b[0mfasttext\u001b[0m\u001b[0;34m.\u001b[0m\u001b[0mVector\u001b[0m\u001b[0;34m(\u001b[0m\u001b[0mdim\u001b[0m\u001b[0;34m)\u001b[0m\u001b[0;34m\u001b[0m\u001b[0;34m\u001b[0m\u001b[0m\n\u001b[0;32m---> 84\u001b[0;31m         \u001b[0mself\u001b[0m\u001b[0;34m.\u001b[0m\u001b[0mf\u001b[0m\u001b[0;34m.\u001b[0m\u001b[0mgetSentenceVector\u001b[0m\u001b[0;34m(\u001b[0m\u001b[0mb\u001b[0m\u001b[0;34m,\u001b[0m \u001b[0mtext\u001b[0m\u001b[0;34m)\u001b[0m\u001b[0;34m\u001b[0m\u001b[0;34m\u001b[0m\u001b[0m\n\u001b[0m\u001b[1;32m     85\u001b[0m         \u001b[0;32mreturn\u001b[0m \u001b[0mnp\u001b[0m\u001b[0;34m.\u001b[0m\u001b[0marray\u001b[0m\u001b[0;34m(\u001b[0m\u001b[0mb\u001b[0m\u001b[0;34m)\u001b[0m\u001b[0;34m\u001b[0m\u001b[0;34m\u001b[0m\u001b[0m\n\u001b[1;32m     86\u001b[0m \u001b[0;34m\u001b[0m\u001b[0m\n",
      "\u001b[0;31mKeyboardInterrupt\u001b[0m: "
     ]
    }
   ],
   "source": [
    "bilingual_dictionary = list(zip(test['source'],test['target']))\n",
    "\n",
    "source_matrix_test, target_matrix_test = make_training_matrices(model['en'], model['es'], bilingual_dictionary)"
   ]
  },
  {
   "cell_type": "code",
   "execution_count": null,
   "metadata": {},
   "outputs": [],
   "source": [
    "#before\n",
    "target_matrix_test = normalized(target_matrix_test)\n",
    "source_matrix_test = normalized(source_matrix_test)\n",
    "\n",
    "print(\"Before trans:\",np.mean(inner1d(target_matrix_test, source_matrix_test)))\n",
    "#after\n",
    "print(\"After trans:\", np.mean(inner1d(target_matrix_test, np.matmul(transform, source_matrix_test.T).T)))"
   ]
  },
  {
   "cell_type": "code",
   "execution_count": null,
   "metadata": {},
   "outputs": [],
   "source": []
  }
 ],
 "metadata": {
  "accelerator": "GPU",
  "colab": {
   "collapsed_sections": [],
   "machine_shape": "hm",
   "name": "Content Translation.ipynb",
   "provenance": []
  },
  "kernelspec": {
   "display_name": "Python 3",
   "language": "python",
   "name": "python3"
  },
  "language_info": {
   "codemirror_mode": {
    "name": "ipython",
    "version": 3
   },
   "file_extension": ".py",
   "mimetype": "text/x-python",
   "name": "python",
   "nbconvert_exporter": "python",
   "pygments_lexer": "ipython3",
   "version": "3.7.3"
  }
 },
 "nbformat": 4,
 "nbformat_minor": 1
}
