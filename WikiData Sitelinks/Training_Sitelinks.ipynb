{
 "cells": [
  {
   "cell_type": "code",
   "execution_count": 1,
   "metadata": {
    "colab": {},
    "colab_type": "code",
    "id": "5LGKFdmIYgza"
   },
   "outputs": [],
   "source": [
    "import json\n",
    "import fasttext\n",
    "import pandas as pd\n",
    "import numpy as np\n",
    "import re\n",
    "import os\n",
    "import unicodedata\n",
    "from sklearn.model_selection import train_test_split"
   ]
  },
  {
   "cell_type": "code",
   "execution_count": 82,
   "metadata": {},
   "outputs": [],
   "source": [
    "def apply_transform(vec, transform):\n",
    "    \"\"\"\n",
    "    Apply the given transformation to the vector space\n",
    "\n",
    "    Right-multiplies given transform with embeddings E:\n",
    "        E = E * transform\n",
    "\n",
    "    Transform can either be a string with a filename to a\n",
    "    text file containing a ndarray (compat. with np.loadtxt)\n",
    "    or a numpy ndarray.\n",
    "    \"\"\"\n",
    "    transmat = np.loadtxt(transform)# if isinstance(transform, str) else transform\n",
    "    return np.matmul(vec, transmat)\n",
    "\n",
    "def make_training_matrices(source_dictionary, target_dictionary, bilingual_dictionary):\n",
    "    \"\"\"\n",
    "    Source and target dictionaries are the FastVector objects of\n",
    "    source/target languages. bilingual_dictionary is a list of \n",
    "    translation pair tuples [(source_word, target_word), ...].\n",
    "    \"\"\"\n",
    "    source_matrix = []\n",
    "    target_matrix = []\n",
    "    \n",
    "    len_bd = len(bilingual_dictionary)\n",
    "\n",
    "    for i, (source, target) in enumerate(bilingual_dictionary):\n",
    "        if i % 10000 == 0:\n",
    "            print(f'\\r{i + 1}/{len_bd} | {100 * (i + 1) / len_bd:.3f} %', end = '', flush = True)\n",
    "        sourceVector = source_dictionary.get_sentence_vector(source.lower().strip().replace('_',' '))\n",
    "        targetVector = target_dictionary.get_sentence_vector(target.lower().strip().replace('_',' '))\n",
    "        source_matrix.append(sourceVector)\n",
    "        target_matrix.append(targetVector)\n",
    "        \n",
    "    # return training matrices\n",
    "    return np.array(source_matrix), np.array(target_matrix)\n",
    "\n",
    "def normalized(a, axis=-1, order=2):\n",
    "    \"\"\"Utility function to normalize the rows of a numpy array.\"\"\"\n",
    "    l2 = np.atleast_1d(np.linalg.norm(a, order, axis))\n",
    "    l2[l2 == 0] = 1\n",
    "    return a / np.expand_dims(l2, axis)\n",
    "\n",
    "\n",
    "def learn_transformation(source_matrix, target_matrix, normalize_vectors=True):\n",
    "    \"\"\"\n",
    "    Source and target matrices are numpy arrays, shape\n",
    "    (dictionary_length, embedding_dimension). These contain paired\n",
    "    word vectors from the bilingual dictionary.\n",
    "    \"\"\"\n",
    "    # optionally normalize the training vectors\n",
    "    if normalize_vectors:\n",
    "        source_matrix = normalized(source_matrix)\n",
    "        target_matrix = normalized(target_matrix)\n",
    "\n",
    "    # perform the SVD\n",
    "    product = np.matmul(target_matrix.transpose(), source_matrix)\n",
    "    U, s, V = np.linalg.svd(product)\n",
    "\n",
    "    # return orthogonal transformation which aligns source language to the target\n",
    "    return np.matmul(U, V)"
   ]
  },
  {
   "cell_type": "code",
   "execution_count": 75,
   "metadata": {},
   "outputs": [],
   "source": [
    "# df = pd.read_csv('sitelinks/wikidata_smaller.csv')"
   ]
  },
  {
   "cell_type": "code",
   "execution_count": 76,
   "metadata": {},
   "outputs": [],
   "source": [
    "# df.head()"
   ]
  },
  {
   "cell_type": "code",
   "execution_count": 77,
   "metadata": {
    "colab": {},
    "colab_type": "code",
    "id": "6LXb_Z-tWY7z"
   },
   "outputs": [],
   "source": [
    "# df_en = df[df['wiki'].str.contains('enwiki')]"
   ]
  },
  {
   "cell_type": "code",
   "execution_count": 78,
   "metadata": {
    "colab": {},
    "colab_type": "code",
    "id": "KfZMpUx_Wy7V"
   },
   "outputs": [],
   "source": [
    "# df_es = df[df['wiki'].str.contains('eswiki')]\n",
    "# df_es = df_es[~df_es['wiki'].isin(['sourceswiki', 'specieswiki'])]"
   ]
  },
  {
   "cell_type": "code",
   "execution_count": 7,
   "metadata": {},
   "outputs": [],
   "source": [
    "# df_en.to_csv('sitelinks/en_sitelinks.csv',index=False)\n",
    "# df_es.to_csv('sitelinks/es_sitelinks.csv',index=False)"
   ]
  },
  {
   "cell_type": "code",
   "execution_count": 8,
   "metadata": {},
   "outputs": [],
   "source": [
    "# df_en = pd.read_csv('sitelinks/en_sitelinks.csv')\n",
    "# df_es = pd.read_csv('sitelinks/es_sitelinks.csv')"
   ]
  },
  {
   "cell_type": "code",
   "execution_count": 9,
   "metadata": {
    "colab": {},
    "colab_type": "code",
    "id": "0BifR116YqlV"
   },
   "outputs": [],
   "source": [
    "# df_en_grouped = df_en.groupby(['wikidata_item'], sort=False)['content'].first()\n",
    "# df_en_grouped = df_en_grouped.to_frame()"
   ]
  },
  {
   "cell_type": "code",
   "execution_count": 10,
   "metadata": {
    "colab": {},
    "colab_type": "code",
    "id": "OLiw1uHZZCea"
   },
   "outputs": [],
   "source": [
    "# df_es_grouped = df_es.groupby(['wikidata_item'], sort=False)['content'].first()\n",
    "# df_es_grouped = df_es_grouped.to_frame()"
   ]
  },
  {
   "cell_type": "code",
   "execution_count": 12,
   "metadata": {},
   "outputs": [],
   "source": [
    "# merged_wiki = pd.merge(left=df_en_grouped,right=df_es_grouped, left_on='wikidata_item', right_on='wikidata_item')\n",
    "# merged_wiki.to_csv('sitelinks/en_es_sitelinks.csv')\n",
    "# merged_wiki = pd.read_csv('sitelinks/en_es_sitelinks.csv')"
   ]
  },
  {
   "cell_type": "code",
   "execution_count": 17,
   "metadata": {
    "colab": {},
    "colab_type": "code",
    "id": "XEQLjT19ZcwG"
   },
   "outputs": [],
   "source": [
    "# # merged_wiki = pd.read_csv('sitelinks/en_es_sitelinks.csv')\n",
    "# merged_wiki['wiki_x']='en'\n",
    "# merged_wiki['wiki_y']='es'"
   ]
  },
  {
   "cell_type": "code",
   "execution_count": 14,
   "metadata": {
    "colab": {
     "base_uri": "https://localhost:8080/",
     "height": 52
    },
    "colab_type": "code",
    "id": "ezkKFhHZZstN",
    "outputId": "0576f4cf-e470-425f-b4e0-154cb04a3ce9"
   },
   "outputs": [
    {
     "name": "stderr",
     "output_type": "stream",
     "text": [
      "\n",
      "\n"
     ]
    }
   ],
   "source": [
    "model = {}\n",
    "model['en'] = fasttext.load_model('fast/wiki.en.bin')\n",
    "model['es'] = fasttext.load_model('fast/wiki.es.bin')"
   ]
  },
  {
   "cell_type": "code",
   "execution_count": 42,
   "metadata": {
    "colab": {},
    "colab_type": "code",
    "id": "ThE2YuDxc_g1"
   },
   "outputs": [],
   "source": [
    "# df = pd.concat([merged_wiki['wiki_x'], merged_wiki['content_x'],merged_wiki['wiki_y'], merged_wiki['content_y']],\n",
    "#                axis=1, keys=['source_lang','source_content','target_lang','target_content'])"
   ]
  },
  {
   "cell_type": "code",
   "execution_count": 15,
   "metadata": {
    "colab": {},
    "colab_type": "code",
    "id": "NKH-ufxjijI-"
   },
   "outputs": [],
   "source": [
    "# # # df.to_csv('sitelinks/en_es_sitelinks.csv',index=False)\n",
    "# df = pd.read_csv('sitelinks/en_es_sitelinks.csv')"
   ]
  },
  {
   "cell_type": "code",
   "execution_count": 18,
   "metadata": {
    "colab": {
     "base_uri": "https://localhost:8080/",
     "height": 206
    },
    "colab_type": "code",
    "id": "LL6GTUzIsbkd",
    "outputId": "7e7b9cfd-428d-4636-c738-45aaa03096d3"
   },
   "outputs": [],
   "source": [
    "# df.head()"
   ]
  },
  {
   "cell_type": "code",
   "execution_count": 19,
   "metadata": {
    "colab": {},
    "colab_type": "code",
    "id": "qLQCbq1U-DlC"
   },
   "outputs": [],
   "source": [
    "# df['source_content'] = df['source_content'].str.replace('_',' ')\n",
    "# df['target_content'] = df['target_content'].str.replace('_',' ')"
   ]
  },
  {
   "cell_type": "code",
   "execution_count": 20,
   "metadata": {
    "colab": {
     "base_uri": "https://localhost:8080/",
     "height": 52
    },
    "colab_type": "code",
    "id": "dwHuSrlCt1jN",
    "outputId": "7cc67715-713d-4629-81d6-b6e93422e16c"
   },
   "outputs": [],
   "source": [
    "# print(len(df))\n",
    "# df = df.dropna()\n",
    "# print(len(df))"
   ]
  },
  {
   "cell_type": "code",
   "execution_count": 65,
   "metadata": {},
   "outputs": [],
   "source": [
    "def unicoder(value):\n",
    "    clean = unicodedata.normalize('NFKC',value)\n",
    "    return clean"
   ]
  },
  {
   "cell_type": "code",
   "execution_count": 66,
   "metadata": {
    "colab": {},
    "colab_type": "code",
    "id": "TzXGIy8ANREc"
   },
   "outputs": [],
   "source": [
    "# df.to_csv('sitelinks/en_es_sitelinks.csv',index=False)\n",
    "train = pd.read_csv('sitelinks/en_es_sitelinks.csv')\n",
    "train = train.drop(columns=['source_lang', 'target_lang'])\n",
    "train = train.rename(columns={\"source_content\": \"source\", \"target_content\": \"target\"})"
   ]
  },
  {
   "cell_type": "code",
   "execution_count": 93,
   "metadata": {},
   "outputs": [],
   "source": [
    "train['source'] = train['source'].apply(unicoder)\n",
    "train['target'] = train['target'].apply(unicoder)"
   ]
  },
  {
   "cell_type": "code",
   "execution_count": 94,
   "metadata": {},
   "outputs": [],
   "source": [
    "test = pd.read_csv('content_test.csv') #same for everyone"
   ]
  },
  {
   "cell_type": "code",
   "execution_count": 95,
   "metadata": {},
   "outputs": [
    {
     "data": {
      "text/html": [
       "<div>\n",
       "<style scoped>\n",
       "    .dataframe tbody tr th:only-of-type {\n",
       "        vertical-align: middle;\n",
       "    }\n",
       "\n",
       "    .dataframe tbody tr th {\n",
       "        vertical-align: top;\n",
       "    }\n",
       "\n",
       "    .dataframe thead th {\n",
       "        text-align: right;\n",
       "    }\n",
       "</style>\n",
       "<table border=\"1\" class=\"dataframe\">\n",
       "  <thead>\n",
       "    <tr style=\"text-align: right;\">\n",
       "      <th></th>\n",
       "      <th>source</th>\n",
       "      <th>target</th>\n",
       "    </tr>\n",
       "  </thead>\n",
       "  <tbody>\n",
       "    <tr>\n",
       "      <th>0</th>\n",
       "      <td>Asynchronous transfer mode</td>\n",
       "      <td>Modo de transferencia asíncrona</td>\n",
       "    </tr>\n",
       "    <tr>\n",
       "      <th>1</th>\n",
       "      <td>Aphelion</td>\n",
       "      <td>Afelio</td>\n",
       "    </tr>\n",
       "    <tr>\n",
       "      <th>2</th>\n",
       "      <td>Austria-Hungary</td>\n",
       "      <td>Imperio austrohúngaro</td>\n",
       "    </tr>\n",
       "    <tr>\n",
       "      <th>3</th>\n",
       "      <td>Al Capone</td>\n",
       "      <td>Al Capone</td>\n",
       "    </tr>\n",
       "    <tr>\n",
       "      <th>4</th>\n",
       "      <td>Cue sports</td>\n",
       "      <td>Billar</td>\n",
       "    </tr>\n",
       "  </tbody>\n",
       "</table>\n",
       "</div>"
      ],
      "text/plain": [
       "                       source                           target\n",
       "0  Asynchronous transfer mode  Modo de transferencia asíncrona\n",
       "1                    Aphelion                           Afelio\n",
       "2             Austria-Hungary            Imperio austrohúngaro\n",
       "3                   Al Capone                        Al Capone\n",
       "4                  Cue sports                           Billar"
      ]
     },
     "execution_count": 95,
     "metadata": {},
     "output_type": "execute_result"
    }
   ],
   "source": [
    "train.head()"
   ]
  },
  {
   "cell_type": "code",
   "execution_count": 96,
   "metadata": {},
   "outputs": [
    {
     "data": {
      "text/html": [
       "<div>\n",
       "<style scoped>\n",
       "    .dataframe tbody tr th:only-of-type {\n",
       "        vertical-align: middle;\n",
       "    }\n",
       "\n",
       "    .dataframe tbody tr th {\n",
       "        vertical-align: top;\n",
       "    }\n",
       "\n",
       "    .dataframe thead th {\n",
       "        text-align: right;\n",
       "    }\n",
       "</style>\n",
       "<table border=\"1\" class=\"dataframe\">\n",
       "  <thead>\n",
       "    <tr style=\"text-align: right;\">\n",
       "      <th></th>\n",
       "      <th>source</th>\n",
       "      <th>target</th>\n",
       "    </tr>\n",
       "  </thead>\n",
       "  <tbody>\n",
       "    <tr>\n",
       "      <th>0</th>\n",
       "      <td>Hopkins died without leaving a will, though hi...</td>\n",
       "      <td>Hopkins murió sin dejar testamento. Su fortuna...</td>\n",
       "    </tr>\n",
       "    <tr>\n",
       "      <th>1</th>\n",
       "      <td>Grossman was born in Concord, Massachusetts, t...</td>\n",
       "      <td>Grossman Nació en Concord, Massachusetts, es h...</td>\n",
       "    </tr>\n",
       "    <tr>\n",
       "      <th>2</th>\n",
       "      <td>The song was written in producer Finneas O'Con...</td>\n",
       "      <td>La canción fue escrita por el productor Finnea...</td>\n",
       "    </tr>\n",
       "    <tr>\n",
       "      <th>3</th>\n",
       "      <td>Shadow Warriors (Hattori Hanzō: Kage no Gundan...</td>\n",
       "      <td>Shadow Warriors (serie Hattori Hanzō: Kage no ...</td>\n",
       "    </tr>\n",
       "    <tr>\n",
       "      <th>4</th>\n",
       "      <td>ZF + ACω suffices to prove that the union of c...</td>\n",
       "      <td>ZF + ACω es suficiente para probar que la unió...</td>\n",
       "    </tr>\n",
       "  </tbody>\n",
       "</table>\n",
       "</div>"
      ],
      "text/plain": [
       "                                              source  \\\n",
       "0  Hopkins died without leaving a will, though hi...   \n",
       "1  Grossman was born in Concord, Massachusetts, t...   \n",
       "2  The song was written in producer Finneas O'Con...   \n",
       "3  Shadow Warriors (Hattori Hanzō: Kage no Gundan...   \n",
       "4  ZF + ACω suffices to prove that the union of c...   \n",
       "\n",
       "                                              target  \n",
       "0  Hopkins murió sin dejar testamento. Su fortuna...  \n",
       "1  Grossman Nació en Concord, Massachusetts, es h...  \n",
       "2  La canción fue escrita por el productor Finnea...  \n",
       "3  Shadow Warriors (serie Hattori Hanzō: Kage no ...  \n",
       "4  ZF + ACω es suficiente para probar que la unió...  "
      ]
     },
     "execution_count": 96,
     "metadata": {},
     "output_type": "execute_result"
    }
   ],
   "source": [
    "test.head()"
   ]
  },
  {
   "cell_type": "code",
   "execution_count": 90,
   "metadata": {},
   "outputs": [
    {
     "data": {
      "text/html": [
       "<div>\n",
       "<style scoped>\n",
       "    .dataframe tbody tr th:only-of-type {\n",
       "        vertical-align: middle;\n",
       "    }\n",
       "\n",
       "    .dataframe tbody tr th {\n",
       "        vertical-align: top;\n",
       "    }\n",
       "\n",
       "    .dataframe thead th {\n",
       "        text-align: right;\n",
       "    }\n",
       "</style>\n",
       "<table border=\"1\" class=\"dataframe\">\n",
       "  <thead>\n",
       "    <tr style=\"text-align: right;\">\n",
       "      <th></th>\n",
       "      <th>source</th>\n",
       "      <th>target</th>\n",
       "    </tr>\n",
       "  </thead>\n",
       "  <tbody>\n",
       "    <tr>\n",
       "      <th>921408</th>\n",
       "      <td>Royce da 5'9\\\"\\nenwiki,1273903,Q267816,2004-12...</td>\n",
       "      <td>Royce da 5'9\\\"\\neswiki,1020658,Q7104966,2007-0...</td>\n",
       "    </tr>\n",
       "  </tbody>\n",
       "</table>\n",
       "</div>"
      ],
      "text/plain": [
       "                                                   source  \\\n",
       "921408  Royce da 5'9\\\"\\nenwiki,1273903,Q267816,2004-12...   \n",
       "\n",
       "                                                   target  \n",
       "921408  Royce da 5'9\\\"\\neswiki,1020658,Q7104966,2007-0...  "
      ]
     },
     "execution_count": 90,
     "metadata": {},
     "output_type": "execute_result"
    }
   ],
   "source": [
    "train[train['source'].str.contains(\"\\n\")]"
   ]
  },
  {
   "cell_type": "code",
   "execution_count": 84,
   "metadata": {},
   "outputs": [
    {
     "data": {
      "text/html": [
       "<div>\n",
       "<style scoped>\n",
       "    .dataframe tbody tr th:only-of-type {\n",
       "        vertical-align: middle;\n",
       "    }\n",
       "\n",
       "    .dataframe tbody tr th {\n",
       "        vertical-align: top;\n",
       "    }\n",
       "\n",
       "    .dataframe thead th {\n",
       "        text-align: right;\n",
       "    }\n",
       "</style>\n",
       "<table border=\"1\" class=\"dataframe\">\n",
       "  <thead>\n",
       "    <tr style=\"text-align: right;\">\n",
       "      <th></th>\n",
       "      <th>source</th>\n",
       "      <th>target</th>\n",
       "    </tr>\n",
       "  </thead>\n",
       "  <tbody>\n",
       "    <tr>\n",
       "      <th>457020</th>\n",
       "      <td>4 Segundos</td>\n",
       "      <td>4\\\"\\neswiki,2032120,Q1936108,2008-11-06 08:10:...</td>\n",
       "    </tr>\n",
       "    <tr>\n",
       "      <th>697750</th>\n",
       "      <td>4.5-inch Mark 8 naval gun</td>\n",
       "      <td>Cañón Mark 8 de 4,5\\\"\\neswiki,4743588,Q6029481...</td>\n",
       "    </tr>\n",
       "    <tr>\n",
       "      <th>921408</th>\n",
       "      <td>Royce da 5'9\\\"\\nenwiki,1273903,Q267816,2004-12...</td>\n",
       "      <td>Royce da 5'9\\\"\\neswiki,1020658,Q7104966,2007-0...</td>\n",
       "    </tr>\n",
       "  </tbody>\n",
       "</table>\n",
       "</div>"
      ],
      "text/plain": [
       "                                                   source  \\\n",
       "457020                                         4 Segundos   \n",
       "697750                          4.5-inch Mark 8 naval gun   \n",
       "921408  Royce da 5'9\\\"\\nenwiki,1273903,Q267816,2004-12...   \n",
       "\n",
       "                                                   target  \n",
       "457020  4\\\"\\neswiki,2032120,Q1936108,2008-11-06 08:10:...  \n",
       "697750  Cañón Mark 8 de 4,5\\\"\\neswiki,4743588,Q6029481...  \n",
       "921408  Royce da 5'9\\\"\\neswiki,1020658,Q7104966,2007-0...  "
      ]
     },
     "execution_count": 84,
     "metadata": {},
     "output_type": "execute_result"
    }
   ],
   "source": [
    "train[train['target'].str.contains(\"\\n\")]"
   ]
  },
  {
   "cell_type": "markdown",
   "metadata": {},
   "source": [
    "Dropping the rows that are not handled by the unicoder"
   ]
  },
  {
   "cell_type": "code",
   "execution_count": 97,
   "metadata": {},
   "outputs": [],
   "source": [
    "train = train.drop([457020, 697750,921408])"
   ]
  },
  {
   "cell_type": "code",
   "execution_count": 99,
   "metadata": {},
   "outputs": [
    {
     "data": {
      "text/html": [
       "<div>\n",
       "<style scoped>\n",
       "    .dataframe tbody tr th:only-of-type {\n",
       "        vertical-align: middle;\n",
       "    }\n",
       "\n",
       "    .dataframe tbody tr th {\n",
       "        vertical-align: top;\n",
       "    }\n",
       "\n",
       "    .dataframe thead th {\n",
       "        text-align: right;\n",
       "    }\n",
       "</style>\n",
       "<table border=\"1\" class=\"dataframe\">\n",
       "  <thead>\n",
       "    <tr style=\"text-align: right;\">\n",
       "      <th></th>\n",
       "      <th>source</th>\n",
       "      <th>target</th>\n",
       "    </tr>\n",
       "  </thead>\n",
       "  <tbody>\n",
       "  </tbody>\n",
       "</table>\n",
       "</div>"
      ],
      "text/plain": [
       "Empty DataFrame\n",
       "Columns: [source, target]\n",
       "Index: []"
      ]
     },
     "execution_count": 99,
     "metadata": {},
     "output_type": "execute_result"
    }
   ],
   "source": [
    "train[train['target'].str.contains(\"\\n\")]"
   ]
  },
  {
   "cell_type": "code",
   "execution_count": 100,
   "metadata": {},
   "outputs": [],
   "source": [
    "#Train\n",
    "bilingual_dictionary = list(zip(train['source'],train['target']))"
   ]
  },
  {
   "cell_type": "code",
   "execution_count": 101,
   "metadata": {
    "colab": {},
    "colab_type": "code",
    "id": "4vsP6Nwc-s69"
   },
   "outputs": [
    {
     "name": "stdout",
     "output_type": "stream",
     "text": [
      "990001/995640 | 99.434 %"
     ]
    }
   ],
   "source": [
    "source_matrix, target_matrix = make_training_matrices(model['en'], model['es'], bilingual_dictionary)"
   ]
  },
  {
   "cell_type": "code",
   "execution_count": 102,
   "metadata": {},
   "outputs": [],
   "source": [
    "np.save('source_matrix_sitelinks',source_matrix)\n",
    "np.save('target_matrix_sitelinks',target_matrix)"
   ]
  },
  {
   "cell_type": "code",
   "execution_count": 110,
   "metadata": {},
   "outputs": [],
   "source": [
    "source_matrix = np.load('source_matrix_sitelinks.npy')\n",
    "target_matrix = np.load('target_matrix_sitelinks.npy')"
   ]
  },
  {
   "cell_type": "code",
   "execution_count": 104,
   "metadata": {},
   "outputs": [],
   "source": [
    "#Computing transform matrix\n",
    "transform = learn_transformation(source_matrix, target_matrix)"
   ]
  },
  {
   "cell_type": "code",
   "execution_count": 105,
   "metadata": {},
   "outputs": [],
   "source": [
    "# ## Save transform as .txt file\n",
    "np.save('sitelinks_transform_en_es', transform)"
   ]
  },
  {
   "cell_type": "code",
   "execution_count": 106,
   "metadata": {},
   "outputs": [],
   "source": [
    "transform = np.load('sitelinks_transform_en_es.npy')"
   ]
  },
  {
   "cell_type": "code",
   "execution_count": null,
   "metadata": {},
   "outputs": [],
   "source": [
    "#before\n",
    "print(\"Before trans:\",np.matmul(target_matrix, source_matrix.T).mean())\n",
    "#after\n",
    "print(\"After trans:\",np.matmul(target_matrix, np.matmul(transform, source_matrix.T)).mean())"
   ]
  },
  {
   "cell_type": "code",
   "execution_count": 107,
   "metadata": {},
   "outputs": [
    {
     "name": "stdout",
     "output_type": "stream",
     "text": [
      "70001/72972 | 95.929 %"
     ]
    }
   ],
   "source": [
    "#Test\n",
    "bilingual_dictionary = list(zip(test['source'],test['target']))\n",
    "source_matrix_test, target_matrix_test = make_training_matrices(model['en'], model['es'], bilingual_dictionary)"
   ]
  },
  {
   "cell_type": "code",
   "execution_count": 108,
   "metadata": {},
   "outputs": [],
   "source": [
    "np.save('source_matrix_test',source_matrix_test)\n",
    "np.save('target_matrix_test',target_matrix_test)"
   ]
  },
  {
   "cell_type": "code",
   "execution_count": 111,
   "metadata": {},
   "outputs": [],
   "source": [
    "source_matrix_test = np.load('source_matrix_test.npy')\n",
    "target_matrix_test = np.load('target_matrix_test.npy')"
   ]
  },
  {
   "cell_type": "code",
   "execution_count": 112,
   "metadata": {},
   "outputs": [
    {
     "name": "stdout",
     "output_type": "stream",
     "text": [
      "Before trans: 0.0009806056\n",
      "After trans: 0.18403813\n"
     ]
    }
   ],
   "source": [
    "#before\n",
    "print(\"Before trans:\",np.matmul(target_matrix_test, source_matrix_test.T).mean())\n",
    "#after\n",
    "print(\"After trans:\",np.matmul(target_matrix_test, np.matmul(transform, source_matrix_test.T)).mean())"
   ]
  },
  {
   "cell_type": "code",
   "execution_count": null,
   "metadata": {},
   "outputs": [],
   "source": []
  }
 ],
 "metadata": {
  "accelerator": "GPU",
  "colab": {
   "collapsed_sections": [],
   "machine_shape": "hm",
   "name": "Loading_Sitelinks_Wikidata.ipynb",
   "provenance": []
  },
  "kernelspec": {
   "display_name": "Python 3",
   "language": "python",
   "name": "python3"
  },
  "language_info": {
   "codemirror_mode": {
    "name": "ipython",
    "version": 3
   },
   "file_extension": ".py",
   "mimetype": "text/x-python",
   "name": "python",
   "nbconvert_exporter": "python",
   "pygments_lexer": "ipython3",
   "version": "3.6.9"
  }
 },
 "nbformat": 4,
 "nbformat_minor": 1
}
